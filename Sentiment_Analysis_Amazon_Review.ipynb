{
  "cells": [
    {
      "cell_type": "code",
      "execution_count": null,
      "metadata": {
        "id": "73Nj0SD5FQXq"
      },
      "outputs": [],
      "source": [
        "import nltk\n",
        "import pandas as pd\n",
        "import string\n",
        "from nltk.corpus import stopwords\n",
        "from nltk.tokenize import sent_tokenize,word_tokenize\n",
        "import matplotlib.pyplot as plt\n",
        "import numpy as np\n",
        "import seaborn as sns\n",
        "import math"
      ]
    },
    {
      "cell_type": "code",
      "execution_count": null,
      "metadata": {
        "colab": {
          "base_uri": "https://localhost:8080/"
        },
        "id": "zs8adFKSKhwI",
        "outputId": "9fa1be05-e0dd-4443-9f4e-6747809031a4"
      },
      "outputs": [
        {
          "output_type": "stream",
          "name": "stdout",
          "text": [
            "Drive already mounted at /content/drive; to attempt to forcibly remount, call drive.mount(\"/content/drive\", force_remount=True).\n"
          ]
        }
      ],
      "source": [
        "from google.colab import drive\n",
        "drive.mount('/content/drive')"
      ]
    },
    {
      "cell_type": "code",
      "execution_count": null,
      "metadata": {
        "id": "N6VK7HY_MDJN",
        "colab": {
          "base_uri": "https://localhost:8080/",
          "height": 857
        },
        "outputId": "c17876fb-ee49-4ad3-85b0-38215e344bcf"
      },
      "outputs": [
        {
          "output_type": "stream",
          "name": "stderr",
          "text": [
            "/usr/local/lib/python3.8/dist-packages/IPython/core/interactiveshell.py:3326: DtypeWarning: Columns (1,10) have mixed types.Specify dtype option on import or set low_memory=False.\n",
            "  exec(code_obj, self.user_global_ns, self.user_ns)\n"
          ]
        },
        {
          "output_type": "execute_result",
          "data": {
            "text/plain": [
              "                     id                                               name  \\\n",
              "0  AVqkIhwDv8e3D1O-lebb  All-New Fire HD 8 Tablet, 8 HD Display, Wi-Fi,...   \n",
              "1  AVqkIhwDv8e3D1O-lebb  All-New Fire HD 8 Tablet, 8 HD Display, Wi-Fi,...   \n",
              "2  AVqkIhwDv8e3D1O-lebb  All-New Fire HD 8 Tablet, 8 HD Display, Wi-Fi,...   \n",
              "3  AVqkIhwDv8e3D1O-lebb  All-New Fire HD 8 Tablet, 8 HD Display, Wi-Fi,...   \n",
              "4  AVqkIhwDv8e3D1O-lebb  All-New Fire HD 8 Tablet, 8 HD Display, Wi-Fi,...   \n",
              "\n",
              "        asins   brand                                         categories  \\\n",
              "0  B01AHB9CN2  Amazon  Electronics,iPad & Tablets,All Tablets,Fire Ta...   \n",
              "1  B01AHB9CN2  Amazon  Electronics,iPad & Tablets,All Tablets,Fire Ta...   \n",
              "2  B01AHB9CN2  Amazon  Electronics,iPad & Tablets,All Tablets,Fire Ta...   \n",
              "3  B01AHB9CN2  Amazon  Electronics,iPad & Tablets,All Tablets,Fire Ta...   \n",
              "4  B01AHB9CN2  Amazon  Electronics,iPad & Tablets,All Tablets,Fire Ta...   \n",
              "\n",
              "                                                keys manufacturer  \\\n",
              "0  841667104676,amazon/53004484,amazon/b01ahb9cn2...       Amazon   \n",
              "1  841667104676,amazon/53004484,amazon/b01ahb9cn2...       Amazon   \n",
              "2  841667104676,amazon/53004484,amazon/b01ahb9cn2...       Amazon   \n",
              "3  841667104676,amazon/53004484,amazon/b01ahb9cn2...       Amazon   \n",
              "4  841667104676,amazon/53004484,amazon/b01ahb9cn2...       Amazon   \n",
              "\n",
              "               reviews.date     reviews.dateAdded  \\\n",
              "0  2017-01-13T00:00:00.000Z  2017-07-03T23:33:15Z   \n",
              "1  2017-01-13T00:00:00.000Z  2017-07-03T23:33:15Z   \n",
              "2  2017-01-13T00:00:00.000Z  2017-07-03T23:33:15Z   \n",
              "3  2017-01-13T00:00:00.000Z  2017-07-03T23:33:15Z   \n",
              "4  2017-01-12T00:00:00.000Z  2017-07-03T23:33:15Z   \n",
              "\n",
              "                                    reviews.dateSeen  ... reviews.doRecommend  \\\n",
              "0  2017-06-07T09:04:00.000Z,2017-04-30T00:45:00.000Z  ...                True   \n",
              "1  2017-06-07T09:04:00.000Z,2017-04-30T00:45:00.000Z  ...                True   \n",
              "2  2017-06-07T09:04:00.000Z,2017-04-30T00:45:00.000Z  ...                True   \n",
              "3  2017-06-07T09:04:00.000Z,2017-04-30T00:45:00.000Z  ...                True   \n",
              "4  2017-06-07T09:04:00.000Z,2017-04-30T00:45:00.000Z  ...                True   \n",
              "\n",
              "  reviews.id  reviews.numHelpful  reviews.rating  \\\n",
              "0        NaN                 0.0             5.0   \n",
              "1        NaN                 0.0             5.0   \n",
              "2        NaN                 0.0             5.0   \n",
              "3        NaN                 0.0             4.0   \n",
              "4        NaN                 0.0             5.0   \n",
              "\n",
              "                                  reviews.sourceURLs  \\\n",
              "0  http://reviews.bestbuy.com/3545/5620406/review...   \n",
              "1  http://reviews.bestbuy.com/3545/5620406/review...   \n",
              "2  http://reviews.bestbuy.com/3545/5620406/review...   \n",
              "3  http://reviews.bestbuy.com/3545/5620406/review...   \n",
              "4  http://reviews.bestbuy.com/3545/5620406/review...   \n",
              "\n",
              "                                        reviews.text  \\\n",
              "0  This product so far has not disappointed. My c...   \n",
              "1  great for beginner or experienced person. Boug...   \n",
              "2  Inexpensive tablet for him to use and learn on...   \n",
              "3  I've had my Fire HD 8 two weeks now and I love...   \n",
              "4  I bought this for my grand daughter when she c...   \n",
              "\n",
              "                             reviews.title reviews.userCity  \\\n",
              "0                                   Kindle              NaN   \n",
              "1                                very fast              NaN   \n",
              "2  Beginner tablet for our 9 year old son.              NaN   \n",
              "3                                  Good!!!              NaN   \n",
              "4                Fantastic Tablet for kids              NaN   \n",
              "\n",
              "   reviews.userProvince  reviews.username  \n",
              "0                   NaN           Adapter  \n",
              "1                   NaN            truman  \n",
              "2                   NaN             DaveZ  \n",
              "3                   NaN            Shacks  \n",
              "4                   NaN         explore42  \n",
              "\n",
              "[5 rows x 21 columns]"
            ],
            "text/html": [
              "\n",
              "  <div id=\"df-f77c7c8b-c44a-4a5c-9370-453ca5558447\">\n",
              "    <div class=\"colab-df-container\">\n",
              "      <div>\n",
              "<style scoped>\n",
              "    .dataframe tbody tr th:only-of-type {\n",
              "        vertical-align: middle;\n",
              "    }\n",
              "\n",
              "    .dataframe tbody tr th {\n",
              "        vertical-align: top;\n",
              "    }\n",
              "\n",
              "    .dataframe thead th {\n",
              "        text-align: right;\n",
              "    }\n",
              "</style>\n",
              "<table border=\"1\" class=\"dataframe\">\n",
              "  <thead>\n",
              "    <tr style=\"text-align: right;\">\n",
              "      <th></th>\n",
              "      <th>id</th>\n",
              "      <th>name</th>\n",
              "      <th>asins</th>\n",
              "      <th>brand</th>\n",
              "      <th>categories</th>\n",
              "      <th>keys</th>\n",
              "      <th>manufacturer</th>\n",
              "      <th>reviews.date</th>\n",
              "      <th>reviews.dateAdded</th>\n",
              "      <th>reviews.dateSeen</th>\n",
              "      <th>...</th>\n",
              "      <th>reviews.doRecommend</th>\n",
              "      <th>reviews.id</th>\n",
              "      <th>reviews.numHelpful</th>\n",
              "      <th>reviews.rating</th>\n",
              "      <th>reviews.sourceURLs</th>\n",
              "      <th>reviews.text</th>\n",
              "      <th>reviews.title</th>\n",
              "      <th>reviews.userCity</th>\n",
              "      <th>reviews.userProvince</th>\n",
              "      <th>reviews.username</th>\n",
              "    </tr>\n",
              "  </thead>\n",
              "  <tbody>\n",
              "    <tr>\n",
              "      <th>0</th>\n",
              "      <td>AVqkIhwDv8e3D1O-lebb</td>\n",
              "      <td>All-New Fire HD 8 Tablet, 8 HD Display, Wi-Fi,...</td>\n",
              "      <td>B01AHB9CN2</td>\n",
              "      <td>Amazon</td>\n",
              "      <td>Electronics,iPad &amp; Tablets,All Tablets,Fire Ta...</td>\n",
              "      <td>841667104676,amazon/53004484,amazon/b01ahb9cn2...</td>\n",
              "      <td>Amazon</td>\n",
              "      <td>2017-01-13T00:00:00.000Z</td>\n",
              "      <td>2017-07-03T23:33:15Z</td>\n",
              "      <td>2017-06-07T09:04:00.000Z,2017-04-30T00:45:00.000Z</td>\n",
              "      <td>...</td>\n",
              "      <td>True</td>\n",
              "      <td>NaN</td>\n",
              "      <td>0.0</td>\n",
              "      <td>5.0</td>\n",
              "      <td>http://reviews.bestbuy.com/3545/5620406/review...</td>\n",
              "      <td>This product so far has not disappointed. My c...</td>\n",
              "      <td>Kindle</td>\n",
              "      <td>NaN</td>\n",
              "      <td>NaN</td>\n",
              "      <td>Adapter</td>\n",
              "    </tr>\n",
              "    <tr>\n",
              "      <th>1</th>\n",
              "      <td>AVqkIhwDv8e3D1O-lebb</td>\n",
              "      <td>All-New Fire HD 8 Tablet, 8 HD Display, Wi-Fi,...</td>\n",
              "      <td>B01AHB9CN2</td>\n",
              "      <td>Amazon</td>\n",
              "      <td>Electronics,iPad &amp; Tablets,All Tablets,Fire Ta...</td>\n",
              "      <td>841667104676,amazon/53004484,amazon/b01ahb9cn2...</td>\n",
              "      <td>Amazon</td>\n",
              "      <td>2017-01-13T00:00:00.000Z</td>\n",
              "      <td>2017-07-03T23:33:15Z</td>\n",
              "      <td>2017-06-07T09:04:00.000Z,2017-04-30T00:45:00.000Z</td>\n",
              "      <td>...</td>\n",
              "      <td>True</td>\n",
              "      <td>NaN</td>\n",
              "      <td>0.0</td>\n",
              "      <td>5.0</td>\n",
              "      <td>http://reviews.bestbuy.com/3545/5620406/review...</td>\n",
              "      <td>great for beginner or experienced person. Boug...</td>\n",
              "      <td>very fast</td>\n",
              "      <td>NaN</td>\n",
              "      <td>NaN</td>\n",
              "      <td>truman</td>\n",
              "    </tr>\n",
              "    <tr>\n",
              "      <th>2</th>\n",
              "      <td>AVqkIhwDv8e3D1O-lebb</td>\n",
              "      <td>All-New Fire HD 8 Tablet, 8 HD Display, Wi-Fi,...</td>\n",
              "      <td>B01AHB9CN2</td>\n",
              "      <td>Amazon</td>\n",
              "      <td>Electronics,iPad &amp; Tablets,All Tablets,Fire Ta...</td>\n",
              "      <td>841667104676,amazon/53004484,amazon/b01ahb9cn2...</td>\n",
              "      <td>Amazon</td>\n",
              "      <td>2017-01-13T00:00:00.000Z</td>\n",
              "      <td>2017-07-03T23:33:15Z</td>\n",
              "      <td>2017-06-07T09:04:00.000Z,2017-04-30T00:45:00.000Z</td>\n",
              "      <td>...</td>\n",
              "      <td>True</td>\n",
              "      <td>NaN</td>\n",
              "      <td>0.0</td>\n",
              "      <td>5.0</td>\n",
              "      <td>http://reviews.bestbuy.com/3545/5620406/review...</td>\n",
              "      <td>Inexpensive tablet for him to use and learn on...</td>\n",
              "      <td>Beginner tablet for our 9 year old son.</td>\n",
              "      <td>NaN</td>\n",
              "      <td>NaN</td>\n",
              "      <td>DaveZ</td>\n",
              "    </tr>\n",
              "    <tr>\n",
              "      <th>3</th>\n",
              "      <td>AVqkIhwDv8e3D1O-lebb</td>\n",
              "      <td>All-New Fire HD 8 Tablet, 8 HD Display, Wi-Fi,...</td>\n",
              "      <td>B01AHB9CN2</td>\n",
              "      <td>Amazon</td>\n",
              "      <td>Electronics,iPad &amp; Tablets,All Tablets,Fire Ta...</td>\n",
              "      <td>841667104676,amazon/53004484,amazon/b01ahb9cn2...</td>\n",
              "      <td>Amazon</td>\n",
              "      <td>2017-01-13T00:00:00.000Z</td>\n",
              "      <td>2017-07-03T23:33:15Z</td>\n",
              "      <td>2017-06-07T09:04:00.000Z,2017-04-30T00:45:00.000Z</td>\n",
              "      <td>...</td>\n",
              "      <td>True</td>\n",
              "      <td>NaN</td>\n",
              "      <td>0.0</td>\n",
              "      <td>4.0</td>\n",
              "      <td>http://reviews.bestbuy.com/3545/5620406/review...</td>\n",
              "      <td>I've had my Fire HD 8 two weeks now and I love...</td>\n",
              "      <td>Good!!!</td>\n",
              "      <td>NaN</td>\n",
              "      <td>NaN</td>\n",
              "      <td>Shacks</td>\n",
              "    </tr>\n",
              "    <tr>\n",
              "      <th>4</th>\n",
              "      <td>AVqkIhwDv8e3D1O-lebb</td>\n",
              "      <td>All-New Fire HD 8 Tablet, 8 HD Display, Wi-Fi,...</td>\n",
              "      <td>B01AHB9CN2</td>\n",
              "      <td>Amazon</td>\n",
              "      <td>Electronics,iPad &amp; Tablets,All Tablets,Fire Ta...</td>\n",
              "      <td>841667104676,amazon/53004484,amazon/b01ahb9cn2...</td>\n",
              "      <td>Amazon</td>\n",
              "      <td>2017-01-12T00:00:00.000Z</td>\n",
              "      <td>2017-07-03T23:33:15Z</td>\n",
              "      <td>2017-06-07T09:04:00.000Z,2017-04-30T00:45:00.000Z</td>\n",
              "      <td>...</td>\n",
              "      <td>True</td>\n",
              "      <td>NaN</td>\n",
              "      <td>0.0</td>\n",
              "      <td>5.0</td>\n",
              "      <td>http://reviews.bestbuy.com/3545/5620406/review...</td>\n",
              "      <td>I bought this for my grand daughter when she c...</td>\n",
              "      <td>Fantastic Tablet for kids</td>\n",
              "      <td>NaN</td>\n",
              "      <td>NaN</td>\n",
              "      <td>explore42</td>\n",
              "    </tr>\n",
              "  </tbody>\n",
              "</table>\n",
              "<p>5 rows × 21 columns</p>\n",
              "</div>\n",
              "      <button class=\"colab-df-convert\" onclick=\"convertToInteractive('df-f77c7c8b-c44a-4a5c-9370-453ca5558447')\"\n",
              "              title=\"Convert this dataframe to an interactive table.\"\n",
              "              style=\"display:none;\">\n",
              "        \n",
              "  <svg xmlns=\"http://www.w3.org/2000/svg\" height=\"24px\"viewBox=\"0 0 24 24\"\n",
              "       width=\"24px\">\n",
              "    <path d=\"M0 0h24v24H0V0z\" fill=\"none\"/>\n",
              "    <path d=\"M18.56 5.44l.94 2.06.94-2.06 2.06-.94-2.06-.94-.94-2.06-.94 2.06-2.06.94zm-11 1L8.5 8.5l.94-2.06 2.06-.94-2.06-.94L8.5 2.5l-.94 2.06-2.06.94zm10 10l.94 2.06.94-2.06 2.06-.94-2.06-.94-.94-2.06-.94 2.06-2.06.94z\"/><path d=\"M17.41 7.96l-1.37-1.37c-.4-.4-.92-.59-1.43-.59-.52 0-1.04.2-1.43.59L10.3 9.45l-7.72 7.72c-.78.78-.78 2.05 0 2.83L4 21.41c.39.39.9.59 1.41.59.51 0 1.02-.2 1.41-.59l7.78-7.78 2.81-2.81c.8-.78.8-2.07 0-2.86zM5.41 20L4 18.59l7.72-7.72 1.47 1.35L5.41 20z\"/>\n",
              "  </svg>\n",
              "      </button>\n",
              "      \n",
              "  <style>\n",
              "    .colab-df-container {\n",
              "      display:flex;\n",
              "      flex-wrap:wrap;\n",
              "      gap: 12px;\n",
              "    }\n",
              "\n",
              "    .colab-df-convert {\n",
              "      background-color: #E8F0FE;\n",
              "      border: none;\n",
              "      border-radius: 50%;\n",
              "      cursor: pointer;\n",
              "      display: none;\n",
              "      fill: #1967D2;\n",
              "      height: 32px;\n",
              "      padding: 0 0 0 0;\n",
              "      width: 32px;\n",
              "    }\n",
              "\n",
              "    .colab-df-convert:hover {\n",
              "      background-color: #E2EBFA;\n",
              "      box-shadow: 0px 1px 2px rgba(60, 64, 67, 0.3), 0px 1px 3px 1px rgba(60, 64, 67, 0.15);\n",
              "      fill: #174EA6;\n",
              "    }\n",
              "\n",
              "    [theme=dark] .colab-df-convert {\n",
              "      background-color: #3B4455;\n",
              "      fill: #D2E3FC;\n",
              "    }\n",
              "\n",
              "    [theme=dark] .colab-df-convert:hover {\n",
              "      background-color: #434B5C;\n",
              "      box-shadow: 0px 1px 3px 1px rgba(0, 0, 0, 0.15);\n",
              "      filter: drop-shadow(0px 1px 2px rgba(0, 0, 0, 0.3));\n",
              "      fill: #FFFFFF;\n",
              "    }\n",
              "  </style>\n",
              "\n",
              "      <script>\n",
              "        const buttonEl =\n",
              "          document.querySelector('#df-f77c7c8b-c44a-4a5c-9370-453ca5558447 button.colab-df-convert');\n",
              "        buttonEl.style.display =\n",
              "          google.colab.kernel.accessAllowed ? 'block' : 'none';\n",
              "\n",
              "        async function convertToInteractive(key) {\n",
              "          const element = document.querySelector('#df-f77c7c8b-c44a-4a5c-9370-453ca5558447');\n",
              "          const dataTable =\n",
              "            await google.colab.kernel.invokeFunction('convertToInteractive',\n",
              "                                                     [key], {});\n",
              "          if (!dataTable) return;\n",
              "\n",
              "          const docLinkHtml = 'Like what you see? Visit the ' +\n",
              "            '<a target=\"_blank\" href=https://colab.research.google.com/notebooks/data_table.ipynb>data table notebook</a>'\n",
              "            + ' to learn more about interactive tables.';\n",
              "          element.innerHTML = '';\n",
              "          dataTable['output_type'] = 'display_data';\n",
              "          await google.colab.output.renderOutput(dataTable, element);\n",
              "          const docLink = document.createElement('div');\n",
              "          docLink.innerHTML = docLinkHtml;\n",
              "          element.appendChild(docLink);\n",
              "        }\n",
              "      </script>\n",
              "    </div>\n",
              "  </div>\n",
              "  "
            ]
          },
          "metadata": {},
          "execution_count": 5
        }
      ],
      "source": [
        "senti =pd.read_csv('/content/drive/MyDrive/422 project/1429_1.csv')\n",
        "senti.head()"
      ]
    },
    {
      "cell_type": "code",
      "execution_count": null,
      "metadata": {
        "id": "K741xc8dMDMF",
        "colab": {
          "base_uri": "https://localhost:8080/"
        },
        "outputId": "d01f3684-0340-4bf1-abd9-f9ce48b4e777"
      },
      "outputs": [
        {
          "output_type": "execute_result",
          "data": {
            "text/plain": [
              "(34660, 21)"
            ]
          },
          "metadata": {},
          "execution_count": 6
        }
      ],
      "source": [
        "senti.shape"
      ]
    },
    {
      "cell_type": "code",
      "execution_count": null,
      "metadata": {
        "id": "keUeAmPTMDPF",
        "colab": {
          "base_uri": "https://localhost:8080/"
        },
        "outputId": "3976acd0-703d-4bc0-d2c3-e686bda01425"
      },
      "outputs": [
        {
          "output_type": "execute_result",
          "data": {
            "text/plain": [
              "id                          0\n",
              "name                     6760\n",
              "asins                       2\n",
              "brand                       0\n",
              "categories                  0\n",
              "keys                        0\n",
              "manufacturer                0\n",
              "reviews.date               39\n",
              "reviews.dateAdded       10621\n",
              "reviews.dateSeen            0\n",
              "reviews.didPurchase     34659\n",
              "reviews.doRecommend       594\n",
              "reviews.id              34659\n",
              "reviews.numHelpful        529\n",
              "reviews.rating             33\n",
              "reviews.sourceURLs          0\n",
              "reviews.text                1\n",
              "reviews.title               5\n",
              "reviews.userCity        34660\n",
              "reviews.userProvince    34660\n",
              "reviews.username            2\n",
              "dtype: int64"
            ]
          },
          "metadata": {},
          "execution_count": 7
        }
      ],
      "source": [
        "senti.isnull().sum()"
      ]
    },
    {
      "cell_type": "code",
      "execution_count": null,
      "metadata": {
        "id": "WvhztNlNMDR9"
      },
      "outputs": [],
      "source": [
        "senti=senti.drop(['keys','manufacturer','brand','reviews.id', 'reviews.date', 'reviews.dateAdded','reviews.dateSeen','reviews.userProvince','reviews.didPurchase','reviews.userCity','reviews.sourceURLs'], axis = 1)"
      ]
    },
    {
      "cell_type": "code",
      "execution_count": null,
      "metadata": {
        "id": "NBdc6ewAkzW3",
        "colab": {
          "base_uri": "https://localhost:8080/",
          "height": 337
        },
        "outputId": "f83a6879-bfd1-4cba-c9f4-c4f35bceb1e1"
      },
      "outputs": [
        {
          "output_type": "execute_result",
          "data": {
            "text/plain": [
              "                     id                                               name  \\\n",
              "0  AVqkIhwDv8e3D1O-lebb  All-New Fire HD 8 Tablet, 8 HD Display, Wi-Fi,...   \n",
              "1  AVqkIhwDv8e3D1O-lebb  All-New Fire HD 8 Tablet, 8 HD Display, Wi-Fi,...   \n",
              "2  AVqkIhwDv8e3D1O-lebb  All-New Fire HD 8 Tablet, 8 HD Display, Wi-Fi,...   \n",
              "3  AVqkIhwDv8e3D1O-lebb  All-New Fire HD 8 Tablet, 8 HD Display, Wi-Fi,...   \n",
              "4  AVqkIhwDv8e3D1O-lebb  All-New Fire HD 8 Tablet, 8 HD Display, Wi-Fi,...   \n",
              "\n",
              "        asins                                         categories  \\\n",
              "0  B01AHB9CN2  Electronics,iPad & Tablets,All Tablets,Fire Ta...   \n",
              "1  B01AHB9CN2  Electronics,iPad & Tablets,All Tablets,Fire Ta...   \n",
              "2  B01AHB9CN2  Electronics,iPad & Tablets,All Tablets,Fire Ta...   \n",
              "3  B01AHB9CN2  Electronics,iPad & Tablets,All Tablets,Fire Ta...   \n",
              "4  B01AHB9CN2  Electronics,iPad & Tablets,All Tablets,Fire Ta...   \n",
              "\n",
              "  reviews.doRecommend  reviews.numHelpful  reviews.rating  \\\n",
              "0                True                 0.0             5.0   \n",
              "1                True                 0.0             5.0   \n",
              "2                True                 0.0             5.0   \n",
              "3                True                 0.0             4.0   \n",
              "4                True                 0.0             5.0   \n",
              "\n",
              "                                        reviews.text  \\\n",
              "0  This product so far has not disappointed. My c...   \n",
              "1  great for beginner or experienced person. Boug...   \n",
              "2  Inexpensive tablet for him to use and learn on...   \n",
              "3  I've had my Fire HD 8 two weeks now and I love...   \n",
              "4  I bought this for my grand daughter when she c...   \n",
              "\n",
              "                             reviews.title reviews.username  \n",
              "0                                   Kindle          Adapter  \n",
              "1                                very fast           truman  \n",
              "2  Beginner tablet for our 9 year old son.            DaveZ  \n",
              "3                                  Good!!!           Shacks  \n",
              "4                Fantastic Tablet for kids        explore42  "
            ],
            "text/html": [
              "\n",
              "  <div id=\"df-a7b19c66-7154-49b2-ae6b-69725824c8e0\">\n",
              "    <div class=\"colab-df-container\">\n",
              "      <div>\n",
              "<style scoped>\n",
              "    .dataframe tbody tr th:only-of-type {\n",
              "        vertical-align: middle;\n",
              "    }\n",
              "\n",
              "    .dataframe tbody tr th {\n",
              "        vertical-align: top;\n",
              "    }\n",
              "\n",
              "    .dataframe thead th {\n",
              "        text-align: right;\n",
              "    }\n",
              "</style>\n",
              "<table border=\"1\" class=\"dataframe\">\n",
              "  <thead>\n",
              "    <tr style=\"text-align: right;\">\n",
              "      <th></th>\n",
              "      <th>id</th>\n",
              "      <th>name</th>\n",
              "      <th>asins</th>\n",
              "      <th>categories</th>\n",
              "      <th>reviews.doRecommend</th>\n",
              "      <th>reviews.numHelpful</th>\n",
              "      <th>reviews.rating</th>\n",
              "      <th>reviews.text</th>\n",
              "      <th>reviews.title</th>\n",
              "      <th>reviews.username</th>\n",
              "    </tr>\n",
              "  </thead>\n",
              "  <tbody>\n",
              "    <tr>\n",
              "      <th>0</th>\n",
              "      <td>AVqkIhwDv8e3D1O-lebb</td>\n",
              "      <td>All-New Fire HD 8 Tablet, 8 HD Display, Wi-Fi,...</td>\n",
              "      <td>B01AHB9CN2</td>\n",
              "      <td>Electronics,iPad &amp; Tablets,All Tablets,Fire Ta...</td>\n",
              "      <td>True</td>\n",
              "      <td>0.0</td>\n",
              "      <td>5.0</td>\n",
              "      <td>This product so far has not disappointed. My c...</td>\n",
              "      <td>Kindle</td>\n",
              "      <td>Adapter</td>\n",
              "    </tr>\n",
              "    <tr>\n",
              "      <th>1</th>\n",
              "      <td>AVqkIhwDv8e3D1O-lebb</td>\n",
              "      <td>All-New Fire HD 8 Tablet, 8 HD Display, Wi-Fi,...</td>\n",
              "      <td>B01AHB9CN2</td>\n",
              "      <td>Electronics,iPad &amp; Tablets,All Tablets,Fire Ta...</td>\n",
              "      <td>True</td>\n",
              "      <td>0.0</td>\n",
              "      <td>5.0</td>\n",
              "      <td>great for beginner or experienced person. Boug...</td>\n",
              "      <td>very fast</td>\n",
              "      <td>truman</td>\n",
              "    </tr>\n",
              "    <tr>\n",
              "      <th>2</th>\n",
              "      <td>AVqkIhwDv8e3D1O-lebb</td>\n",
              "      <td>All-New Fire HD 8 Tablet, 8 HD Display, Wi-Fi,...</td>\n",
              "      <td>B01AHB9CN2</td>\n",
              "      <td>Electronics,iPad &amp; Tablets,All Tablets,Fire Ta...</td>\n",
              "      <td>True</td>\n",
              "      <td>0.0</td>\n",
              "      <td>5.0</td>\n",
              "      <td>Inexpensive tablet for him to use and learn on...</td>\n",
              "      <td>Beginner tablet for our 9 year old son.</td>\n",
              "      <td>DaveZ</td>\n",
              "    </tr>\n",
              "    <tr>\n",
              "      <th>3</th>\n",
              "      <td>AVqkIhwDv8e3D1O-lebb</td>\n",
              "      <td>All-New Fire HD 8 Tablet, 8 HD Display, Wi-Fi,...</td>\n",
              "      <td>B01AHB9CN2</td>\n",
              "      <td>Electronics,iPad &amp; Tablets,All Tablets,Fire Ta...</td>\n",
              "      <td>True</td>\n",
              "      <td>0.0</td>\n",
              "      <td>4.0</td>\n",
              "      <td>I've had my Fire HD 8 two weeks now and I love...</td>\n",
              "      <td>Good!!!</td>\n",
              "      <td>Shacks</td>\n",
              "    </tr>\n",
              "    <tr>\n",
              "      <th>4</th>\n",
              "      <td>AVqkIhwDv8e3D1O-lebb</td>\n",
              "      <td>All-New Fire HD 8 Tablet, 8 HD Display, Wi-Fi,...</td>\n",
              "      <td>B01AHB9CN2</td>\n",
              "      <td>Electronics,iPad &amp; Tablets,All Tablets,Fire Ta...</td>\n",
              "      <td>True</td>\n",
              "      <td>0.0</td>\n",
              "      <td>5.0</td>\n",
              "      <td>I bought this for my grand daughter when she c...</td>\n",
              "      <td>Fantastic Tablet for kids</td>\n",
              "      <td>explore42</td>\n",
              "    </tr>\n",
              "  </tbody>\n",
              "</table>\n",
              "</div>\n",
              "      <button class=\"colab-df-convert\" onclick=\"convertToInteractive('df-a7b19c66-7154-49b2-ae6b-69725824c8e0')\"\n",
              "              title=\"Convert this dataframe to an interactive table.\"\n",
              "              style=\"display:none;\">\n",
              "        \n",
              "  <svg xmlns=\"http://www.w3.org/2000/svg\" height=\"24px\"viewBox=\"0 0 24 24\"\n",
              "       width=\"24px\">\n",
              "    <path d=\"M0 0h24v24H0V0z\" fill=\"none\"/>\n",
              "    <path d=\"M18.56 5.44l.94 2.06.94-2.06 2.06-.94-2.06-.94-.94-2.06-.94 2.06-2.06.94zm-11 1L8.5 8.5l.94-2.06 2.06-.94-2.06-.94L8.5 2.5l-.94 2.06-2.06.94zm10 10l.94 2.06.94-2.06 2.06-.94-2.06-.94-.94-2.06-.94 2.06-2.06.94z\"/><path d=\"M17.41 7.96l-1.37-1.37c-.4-.4-.92-.59-1.43-.59-.52 0-1.04.2-1.43.59L10.3 9.45l-7.72 7.72c-.78.78-.78 2.05 0 2.83L4 21.41c.39.39.9.59 1.41.59.51 0 1.02-.2 1.41-.59l7.78-7.78 2.81-2.81c.8-.78.8-2.07 0-2.86zM5.41 20L4 18.59l7.72-7.72 1.47 1.35L5.41 20z\"/>\n",
              "  </svg>\n",
              "      </button>\n",
              "      \n",
              "  <style>\n",
              "    .colab-df-container {\n",
              "      display:flex;\n",
              "      flex-wrap:wrap;\n",
              "      gap: 12px;\n",
              "    }\n",
              "\n",
              "    .colab-df-convert {\n",
              "      background-color: #E8F0FE;\n",
              "      border: none;\n",
              "      border-radius: 50%;\n",
              "      cursor: pointer;\n",
              "      display: none;\n",
              "      fill: #1967D2;\n",
              "      height: 32px;\n",
              "      padding: 0 0 0 0;\n",
              "      width: 32px;\n",
              "    }\n",
              "\n",
              "    .colab-df-convert:hover {\n",
              "      background-color: #E2EBFA;\n",
              "      box-shadow: 0px 1px 2px rgba(60, 64, 67, 0.3), 0px 1px 3px 1px rgba(60, 64, 67, 0.15);\n",
              "      fill: #174EA6;\n",
              "    }\n",
              "\n",
              "    [theme=dark] .colab-df-convert {\n",
              "      background-color: #3B4455;\n",
              "      fill: #D2E3FC;\n",
              "    }\n",
              "\n",
              "    [theme=dark] .colab-df-convert:hover {\n",
              "      background-color: #434B5C;\n",
              "      box-shadow: 0px 1px 3px 1px rgba(0, 0, 0, 0.15);\n",
              "      filter: drop-shadow(0px 1px 2px rgba(0, 0, 0, 0.3));\n",
              "      fill: #FFFFFF;\n",
              "    }\n",
              "  </style>\n",
              "\n",
              "      <script>\n",
              "        const buttonEl =\n",
              "          document.querySelector('#df-a7b19c66-7154-49b2-ae6b-69725824c8e0 button.colab-df-convert');\n",
              "        buttonEl.style.display =\n",
              "          google.colab.kernel.accessAllowed ? 'block' : 'none';\n",
              "\n",
              "        async function convertToInteractive(key) {\n",
              "          const element = document.querySelector('#df-a7b19c66-7154-49b2-ae6b-69725824c8e0');\n",
              "          const dataTable =\n",
              "            await google.colab.kernel.invokeFunction('convertToInteractive',\n",
              "                                                     [key], {});\n",
              "          if (!dataTable) return;\n",
              "\n",
              "          const docLinkHtml = 'Like what you see? Visit the ' +\n",
              "            '<a target=\"_blank\" href=https://colab.research.google.com/notebooks/data_table.ipynb>data table notebook</a>'\n",
              "            + ' to learn more about interactive tables.';\n",
              "          element.innerHTML = '';\n",
              "          dataTable['output_type'] = 'display_data';\n",
              "          await google.colab.output.renderOutput(dataTable, element);\n",
              "          const docLink = document.createElement('div');\n",
              "          docLink.innerHTML = docLinkHtml;\n",
              "          element.appendChild(docLink);\n",
              "        }\n",
              "      </script>\n",
              "    </div>\n",
              "  </div>\n",
              "  "
            ]
          },
          "metadata": {},
          "execution_count": 9
        }
      ],
      "source": [
        "senti.head()"
      ]
    },
    {
      "cell_type": "code",
      "execution_count": null,
      "metadata": {
        "id": "6qC6x4FHMDUs",
        "colab": {
          "base_uri": "https://localhost:8080/",
          "height": 300
        },
        "outputId": "b1d3df27-0097-4c3f-d903-7012b0ecaf05"
      },
      "outputs": [
        {
          "output_type": "execute_result",
          "data": {
            "text/plain": [
              "       reviews.numHelpful  reviews.rating\n",
              "count        34131.000000    34627.000000\n",
              "mean             0.630248        4.584573\n",
              "std             13.215775        0.735653\n",
              "min              0.000000        1.000000\n",
              "25%              0.000000        4.000000\n",
              "50%              0.000000        5.000000\n",
              "75%              0.000000        5.000000\n",
              "max            814.000000        5.000000"
            ],
            "text/html": [
              "\n",
              "  <div id=\"df-dba8e65b-f4e4-4c29-a3a6-b0af1793ac0d\">\n",
              "    <div class=\"colab-df-container\">\n",
              "      <div>\n",
              "<style scoped>\n",
              "    .dataframe tbody tr th:only-of-type {\n",
              "        vertical-align: middle;\n",
              "    }\n",
              "\n",
              "    .dataframe tbody tr th {\n",
              "        vertical-align: top;\n",
              "    }\n",
              "\n",
              "    .dataframe thead th {\n",
              "        text-align: right;\n",
              "    }\n",
              "</style>\n",
              "<table border=\"1\" class=\"dataframe\">\n",
              "  <thead>\n",
              "    <tr style=\"text-align: right;\">\n",
              "      <th></th>\n",
              "      <th>reviews.numHelpful</th>\n",
              "      <th>reviews.rating</th>\n",
              "    </tr>\n",
              "  </thead>\n",
              "  <tbody>\n",
              "    <tr>\n",
              "      <th>count</th>\n",
              "      <td>34131.000000</td>\n",
              "      <td>34627.000000</td>\n",
              "    </tr>\n",
              "    <tr>\n",
              "      <th>mean</th>\n",
              "      <td>0.630248</td>\n",
              "      <td>4.584573</td>\n",
              "    </tr>\n",
              "    <tr>\n",
              "      <th>std</th>\n",
              "      <td>13.215775</td>\n",
              "      <td>0.735653</td>\n",
              "    </tr>\n",
              "    <tr>\n",
              "      <th>min</th>\n",
              "      <td>0.000000</td>\n",
              "      <td>1.000000</td>\n",
              "    </tr>\n",
              "    <tr>\n",
              "      <th>25%</th>\n",
              "      <td>0.000000</td>\n",
              "      <td>4.000000</td>\n",
              "    </tr>\n",
              "    <tr>\n",
              "      <th>50%</th>\n",
              "      <td>0.000000</td>\n",
              "      <td>5.000000</td>\n",
              "    </tr>\n",
              "    <tr>\n",
              "      <th>75%</th>\n",
              "      <td>0.000000</td>\n",
              "      <td>5.000000</td>\n",
              "    </tr>\n",
              "    <tr>\n",
              "      <th>max</th>\n",
              "      <td>814.000000</td>\n",
              "      <td>5.000000</td>\n",
              "    </tr>\n",
              "  </tbody>\n",
              "</table>\n",
              "</div>\n",
              "      <button class=\"colab-df-convert\" onclick=\"convertToInteractive('df-dba8e65b-f4e4-4c29-a3a6-b0af1793ac0d')\"\n",
              "              title=\"Convert this dataframe to an interactive table.\"\n",
              "              style=\"display:none;\">\n",
              "        \n",
              "  <svg xmlns=\"http://www.w3.org/2000/svg\" height=\"24px\"viewBox=\"0 0 24 24\"\n",
              "       width=\"24px\">\n",
              "    <path d=\"M0 0h24v24H0V0z\" fill=\"none\"/>\n",
              "    <path d=\"M18.56 5.44l.94 2.06.94-2.06 2.06-.94-2.06-.94-.94-2.06-.94 2.06-2.06.94zm-11 1L8.5 8.5l.94-2.06 2.06-.94-2.06-.94L8.5 2.5l-.94 2.06-2.06.94zm10 10l.94 2.06.94-2.06 2.06-.94-2.06-.94-.94-2.06-.94 2.06-2.06.94z\"/><path d=\"M17.41 7.96l-1.37-1.37c-.4-.4-.92-.59-1.43-.59-.52 0-1.04.2-1.43.59L10.3 9.45l-7.72 7.72c-.78.78-.78 2.05 0 2.83L4 21.41c.39.39.9.59 1.41.59.51 0 1.02-.2 1.41-.59l7.78-7.78 2.81-2.81c.8-.78.8-2.07 0-2.86zM5.41 20L4 18.59l7.72-7.72 1.47 1.35L5.41 20z\"/>\n",
              "  </svg>\n",
              "      </button>\n",
              "      \n",
              "  <style>\n",
              "    .colab-df-container {\n",
              "      display:flex;\n",
              "      flex-wrap:wrap;\n",
              "      gap: 12px;\n",
              "    }\n",
              "\n",
              "    .colab-df-convert {\n",
              "      background-color: #E8F0FE;\n",
              "      border: none;\n",
              "      border-radius: 50%;\n",
              "      cursor: pointer;\n",
              "      display: none;\n",
              "      fill: #1967D2;\n",
              "      height: 32px;\n",
              "      padding: 0 0 0 0;\n",
              "      width: 32px;\n",
              "    }\n",
              "\n",
              "    .colab-df-convert:hover {\n",
              "      background-color: #E2EBFA;\n",
              "      box-shadow: 0px 1px 2px rgba(60, 64, 67, 0.3), 0px 1px 3px 1px rgba(60, 64, 67, 0.15);\n",
              "      fill: #174EA6;\n",
              "    }\n",
              "\n",
              "    [theme=dark] .colab-df-convert {\n",
              "      background-color: #3B4455;\n",
              "      fill: #D2E3FC;\n",
              "    }\n",
              "\n",
              "    [theme=dark] .colab-df-convert:hover {\n",
              "      background-color: #434B5C;\n",
              "      box-shadow: 0px 1px 3px 1px rgba(0, 0, 0, 0.15);\n",
              "      filter: drop-shadow(0px 1px 2px rgba(0, 0, 0, 0.3));\n",
              "      fill: #FFFFFF;\n",
              "    }\n",
              "  </style>\n",
              "\n",
              "      <script>\n",
              "        const buttonEl =\n",
              "          document.querySelector('#df-dba8e65b-f4e4-4c29-a3a6-b0af1793ac0d button.colab-df-convert');\n",
              "        buttonEl.style.display =\n",
              "          google.colab.kernel.accessAllowed ? 'block' : 'none';\n",
              "\n",
              "        async function convertToInteractive(key) {\n",
              "          const element = document.querySelector('#df-dba8e65b-f4e4-4c29-a3a6-b0af1793ac0d');\n",
              "          const dataTable =\n",
              "            await google.colab.kernel.invokeFunction('convertToInteractive',\n",
              "                                                     [key], {});\n",
              "          if (!dataTable) return;\n",
              "\n",
              "          const docLinkHtml = 'Like what you see? Visit the ' +\n",
              "            '<a target=\"_blank\" href=https://colab.research.google.com/notebooks/data_table.ipynb>data table notebook</a>'\n",
              "            + ' to learn more about interactive tables.';\n",
              "          element.innerHTML = '';\n",
              "          dataTable['output_type'] = 'display_data';\n",
              "          await google.colab.output.renderOutput(dataTable, element);\n",
              "          const docLink = document.createElement('div');\n",
              "          docLink.innerHTML = docLinkHtml;\n",
              "          element.appendChild(docLink);\n",
              "        }\n",
              "      </script>\n",
              "    </div>\n",
              "  </div>\n",
              "  "
            ]
          },
          "metadata": {},
          "execution_count": 10
        }
      ],
      "source": [
        "senti.describe()"
      ]
    },
    {
      "cell_type": "code",
      "execution_count": null,
      "metadata": {
        "id": "TuyWcrBDMDXm",
        "colab": {
          "base_uri": "https://localhost:8080/"
        },
        "outputId": "1a96c5b7-1d23-4e86-d11f-5c6359246293"
      },
      "outputs": [
        {
          "output_type": "stream",
          "name": "stdout",
          "text": [
            "<class 'pandas.core.frame.DataFrame'>\n",
            "RangeIndex: 34660 entries, 0 to 34659\n",
            "Data columns (total 10 columns):\n",
            " #   Column               Non-Null Count  Dtype  \n",
            "---  ------               --------------  -----  \n",
            " 0   id                   34660 non-null  object \n",
            " 1   name                 27900 non-null  object \n",
            " 2   asins                34658 non-null  object \n",
            " 3   categories           34660 non-null  object \n",
            " 4   reviews.doRecommend  34066 non-null  object \n",
            " 5   reviews.numHelpful   34131 non-null  float64\n",
            " 6   reviews.rating       34627 non-null  float64\n",
            " 7   reviews.text         34659 non-null  object \n",
            " 8   reviews.title        34655 non-null  object \n",
            " 9   reviews.username     34658 non-null  object \n",
            "dtypes: float64(2), object(8)\n",
            "memory usage: 2.6+ MB\n"
          ]
        }
      ],
      "source": [
        "senti.info()"
      ]
    },
    {
      "cell_type": "code",
      "execution_count": null,
      "metadata": {
        "id": "Oz4pL7hoMDdU",
        "colab": {
          "base_uri": "https://localhost:8080/"
        },
        "outputId": "fb168dc1-8de3-4e21-e821-a6770249c4e3"
      },
      "outputs": [
        {
          "output_type": "execute_result",
          "data": {
            "text/plain": [
              "id                        0\n",
              "name                   6760\n",
              "asins                     2\n",
              "categories                0\n",
              "reviews.doRecommend     594\n",
              "reviews.numHelpful      529\n",
              "reviews.rating           33\n",
              "reviews.text              1\n",
              "reviews.title             5\n",
              "reviews.username          2\n",
              "dtype: int64"
            ]
          },
          "metadata": {},
          "execution_count": 12
        }
      ],
      "source": [
        "senti.isnull().sum()"
      ]
    },
    {
      "cell_type": "code",
      "source": [
        "senti_data=senti[['reviews.rating','reviews.text','reviews.title']]\n",
        "print(senti_data)\n",
        "senti_data.shape"
      ],
      "metadata": {
        "id": "W0YoUXLqOjyT",
        "colab": {
          "base_uri": "https://localhost:8080/"
        },
        "outputId": "8edb8b3d-d812-4154-d6f1-8860f46cff75"
      },
      "execution_count": null,
      "outputs": [
        {
          "output_type": "stream",
          "name": "stdout",
          "text": [
            "       reviews.rating                                       reviews.text  \\\n",
            "0                 5.0  This product so far has not disappointed. My c...   \n",
            "1                 5.0  great for beginner or experienced person. Boug...   \n",
            "2                 5.0  Inexpensive tablet for him to use and learn on...   \n",
            "3                 4.0  I've had my Fire HD 8 two weeks now and I love...   \n",
            "4                 5.0  I bought this for my grand daughter when she c...   \n",
            "...               ...                                                ...   \n",
            "34655             3.0  This is not appreciably faster than any other ...   \n",
            "34656             1.0  Amazon should include this charger with the Ki...   \n",
            "34657             1.0  Love my Kindle Fire but I am really disappoint...   \n",
            "34658             1.0  I was surprised to find it did not come with a...   \n",
            "34659             1.0  to spite the fact that i have nothing but good...   \n",
            "\n",
            "                                           reviews.title  \n",
            "0                                                 Kindle  \n",
            "1                                              very fast  \n",
            "2                Beginner tablet for our 9 year old son.  \n",
            "3                                                Good!!!  \n",
            "4                              Fantastic Tablet for kids  \n",
            "...                                                  ...  \n",
            "34655  Not appreciably faster than any other 1.8A cha...  \n",
            "34656                                 Should be included  \n",
            "34657                              Disappointing Charger  \n",
            "34658                                Not worth the money  \n",
            "34659                              as with everyone else  \n",
            "\n",
            "[34660 rows x 3 columns]\n"
          ]
        },
        {
          "output_type": "execute_result",
          "data": {
            "text/plain": [
              "(34660, 3)"
            ]
          },
          "metadata": {},
          "execution_count": 13
        }
      ]
    },
    {
      "cell_type": "code",
      "source": [
        "senti_data.isnull().sum()\n"
      ],
      "metadata": {
        "id": "x8zKayGkOjvu",
        "colab": {
          "base_uri": "https://localhost:8080/"
        },
        "outputId": "441b51eb-e33b-4324-d970-f4b445d5fb3e"
      },
      "execution_count": null,
      "outputs": [
        {
          "output_type": "execute_result",
          "data": {
            "text/plain": [
              "reviews.rating    33\n",
              "reviews.text       1\n",
              "reviews.title      5\n",
              "dtype: int64"
            ]
          },
          "metadata": {},
          "execution_count": 14
        }
      ]
    },
    {
      "cell_type": "code",
      "source": [
        "senti_data = senti_data.dropna(axis = 0, subset = ['reviews.rating','reviews.text','reviews.title'])\n",
        "senti_data.isnull().sum()"
      ],
      "metadata": {
        "id": "-IFdF_-5Ojqc",
        "colab": {
          "base_uri": "https://localhost:8080/"
        },
        "outputId": "4ad6167c-2755-44d2-d7ce-bac83ef572ad"
      },
      "execution_count": null,
      "outputs": [
        {
          "output_type": "execute_result",
          "data": {
            "text/plain": [
              "reviews.rating    0\n",
              "reviews.text      0\n",
              "reviews.title     0\n",
              "dtype: int64"
            ]
          },
          "metadata": {},
          "execution_count": 15
        }
      ]
    },
    {
      "cell_type": "code",
      "source": [
        "reviewStats=senti_data[\"reviews.rating\"].value_counts().sort_values()\n",
        "print(\"Review Rating Statistics\\n\",reviewStats)\n",
        "senti_data[\"reviews.rating\"].value_counts().sort_values().plot.pie()"
      ],
      "metadata": {
        "id": "rrJ7doxoQEMl",
        "colab": {
          "base_uri": "https://localhost:8080/",
          "height": 396
        },
        "outputId": "efc608c2-5589-458a-b10e-2b78e4a1cd9a"
      },
      "execution_count": null,
      "outputs": [
        {
          "output_type": "stream",
          "name": "stdout",
          "text": [
            "Review Rating Statistics\n",
            " 2.0      402\n",
            "1.0      410\n",
            "3.0     1499\n",
            "4.0     8541\n",
            "5.0    23769\n",
            "Name: reviews.rating, dtype: int64\n"
          ]
        },
        {
          "output_type": "execute_result",
          "data": {
            "text/plain": [
              "<matplotlib.axes._subplots.AxesSubplot at 0x7f518c4046a0>"
            ]
          },
          "metadata": {},
          "execution_count": 16
        },
        {
          "output_type": "display_data",
          "data": {
            "text/plain": [
              "<Figure size 432x288 with 1 Axes>"
            ],
            "image/png": "[encoded data removed]"
          },
          "metadata": {}
        }
      ]
    },
    {
      "cell_type": "code",
      "source": [
        "senti.hist(bins=50, figsize=(20,15))\n",
        "plt.show()"
      ],
      "metadata": {
        "id": "ZYPHS68XQEKS",
        "colab": {
          "base_uri": "https://localhost:8080/",
          "height": 879
        },
        "outputId": "bd2c522b-523d-4617-d96d-c2bff92aa22c"
      },
      "execution_count": null,
      "outputs": [
        {
          "output_type": "display_data",
          "data": {
            "text/plain": [
              "<Figure size 1440x1080 with 2 Axes>"
            ],
            "image/png": "[encoded data removed]"
          },
          "metadata": {
            "needs_background": "light"
          }
        }
      ]
    },
    {
      "cell_type": "code",
      "source": [
        "senti.groupby(\"asins\")[\"name\"].unique()"
      ],
      "metadata": {
        "id": "oGLUVaTbQEH9",
        "colab": {
          "base_uri": "https://localhost:8080/"
        },
        "outputId": "421328a1-88ec-4da6-f163-7c9d42183cab"
      },
      "execution_count": null,
      "outputs": [
        {
          "output_type": "execute_result",
          "data": {
            "text/plain": [
              "asins\n",
              "B002Y27P3M               [Kindle Keyboard,,,\\r\\nKindle Keyboard,,,, All...\n",
              "B002Y27P6Y                                                           [nan]\n",
              "B005PB2T0S               [Amazon Kindle Lighted Leather Cover,,,\\r\\nAma...\n",
              "B005PB2T2Q               [Fire Kids Edition Tablet, 7 Display, Wi-Fi, 1...\n",
              "B006GWO5NE                                                           [nan]\n",
              "B006GWO5WK                                                           [nan]\n",
              "B0083Q04TA               [Fire Tablet, 7 Display, Wi-Fi, 8 GB - Include...\n",
              "B00BFJAHF8                                                           [nan]\n",
              "B00DU15MU4               [Brand New Amazon Kindle Fire 16gb 7 Ips Displ...\n",
              "B00IOY8XWQ               [Kindle Voyage E-reader, 6 High-Resolution Dis...\n",
              "B00IOYAM4I               [Brand New Amazon Kindle Fire 16gb 7 Ips Displ...\n",
              "B00L9EPT8O,B01E6AO69U    [Echo (White),,,\\r\\nEcho (White),,,, Echo (Whi...\n",
              "B00LO29KXQ               [Fire Tablet, 7 Display, Wi-Fi, 8 GB - Include...\n",
              "B00LW9XOJM                                                           [nan]\n",
              "B00OQVZDJM               [Amazon Kindle Paperwhite - eBook reader - 4 G...\n",
              "B00QFQRELG                                                           [nan]\n",
              "B00QJDU3KY               [Fire Tablet, 7 Display, Wi-Fi, 8 GB - Include...\n",
              "B00QL1ZN3G                                                           [nan]\n",
              "B00REQKWGA               [Brand New Amazon Kindle Fire 16gb 7 Ips Displ...\n",
              "B00TSUGXKE                            [Echo (White),,,\\r\\nEcho (White),,,]\n",
              "B00U3FPN4U                                                           [nan]\n",
              "B00UH4D8G2                            [Echo (White),,,\\r\\nEcho (White),,,]\n",
              "B00VINDBJK               [Kindle Oasis E-reader with Leather Charging C...\n",
              "B00X4WHP5E                                                           [nan]\n",
              "B00ZV9PXP2               [Amazon Kindle Fire Hd (3rd Generation) 8gb,,,...\n",
              "B0189XYY0Q                                                           [nan]\n",
              "B018SZT3BK               [Fire Tablet, 7 Display, Wi-Fi, 8 GB - Include...\n",
              "B018T075DC               [Brand New Amazon Kindle Fire 16gb 7 Ips Displ...\n",
              "B018Y225IA               [Brand New Amazon Kindle Fire 16gb 7 Ips Displ...\n",
              "B018Y229OU               [Fire Tablet, 7 Display, Wi-Fi, 8 GB - Include...\n",
              "B018Y22BI4                            [Echo (White),,,\\r\\nEcho (White),,,]\n",
              "B018Y22C2Y               [Fire Tablet, 7 Display, Wi-Fi, 8 GB - Include...\n",
              "B018Y23MNM               [Fire Kids Edition Tablet, 7 Display, Wi-Fi, 1...\n",
              "B018Y23P7K                                                           [nan]\n",
              "B01AHB9C1E               [Fire HD 8 Tablet with Alexa, 8 HD Display, 32...\n",
              "B01AHB9CN2               [All-New Fire HD 8 Tablet, 8 HD Display, Wi-Fi...\n",
              "B01AHB9CYG               [All-New Fire HD 8 Tablet, 8 HD Display, Wi-Fi...\n",
              "B01BFIBRIE               [Fire Tablet, 7 Display, Wi-Fi, 8 GB - Include...\n",
              "B01BH83OOM                                                           [nan]\n",
              "B01J2G4VBG               [Amazon 5W USB Official OEM Charger and Power ...\n",
              "B01J4ORNHU               [Fire Tablet, 7 Display, Wi-Fi, 8 GB - Include...\n",
              "Name: name, dtype: object"
            ]
          },
          "metadata": {},
          "execution_count": 18
        }
      ]
    },
    {
      "cell_type": "code",
      "source": [
        "#Based on number of reviews on each product\n",
        "\n",
        "fig = plt.figure(figsize=(16,10))\n",
        "ax1 = plt.subplot(211)\n",
        "ax2 = plt.subplot(212, sharex = ax1)\n",
        "senti[\"asins\"].value_counts().plot(kind=\"bar\", ax=ax1, title=\"ASIN Frequency\")\n",
        "np.log10(senti[\"asins\"].value_counts()).plot(kind=\"bar\", ax=ax2, title=\"ASIN Frequency (Log10 Adjusted)\", color=[\"red\"])\n",
        "plt.show()"
      ],
      "metadata": {
        "id": "Dgn5jSKEQEFs",
        "colab": {
          "base_uri": "https://localhost:8080/",
          "height": 731
        },
        "outputId": "041cbced-459e-496e-e13c-8f1ad4e2d61d"
      },
      "execution_count": null,
      "outputs": [
        {
          "output_type": "display_data",
          "data": {
            "text/plain": [
              "<Figure size 1152x720 with 2 Axes>"
            ],
            "image/png": "[encoded data removed]"
          },
          "metadata": {
            "needs_background": "light"
          }
        }
      ]
    },
    {
      "cell_type": "code",
      "source": [
        "#Based on review ratings of the products\n",
        "asins_count_ix = senti[\"asins\"].value_counts().index\n",
        "plt.subplots(2,1,figsize=(16,12))\n",
        "plt.subplot(2,1,1)\n",
        "senti[\"asins\"].value_counts().plot(kind=\"bar\", title=\"ASIN Frequency\")\n",
        "plt.subplot(2,1,2)\n",
        "sns.pointplot(x=\"asins\", y=\"reviews.rating\", order=asins_count_ix, data=senti)\n",
        "plt.xticks(rotation=90)\n",
        "plt.show()"
      ],
      "metadata": {
        "id": "MyehQQ2SW8us",
        "colab": {
          "base_uri": "https://localhost:8080/",
          "height": 854
        },
        "outputId": "eda64ccf-f4a3-4cd6-f0da-168c15927c1f"
      },
      "execution_count": null,
      "outputs": [
        {
          "output_type": "display_data",
          "data": {
            "text/plain": [
              "<Figure size 1152x864 with 2 Axes>"
            ],
            "image/png": "[encoded data removed]"
          },
          "metadata": {
            "needs_background": "light"
          }
        }
      ]
    },
    {
      "cell_type": "code",
      "source": [
        "senti_data[\"reviews.rating\"].mean()"
      ],
      "metadata": {
        "id": "LroU2zVmQEDc",
        "colab": {
          "base_uri": "https://localhost:8080/"
        },
        "outputId": "211bee13-4d85-41fb-cd4e-8947a214990a"
      },
      "execution_count": null,
      "outputs": [
        {
          "output_type": "execute_result",
          "data": {
            "text/plain": [
              "4.584500736547183"
            ]
          },
          "metadata": {},
          "execution_count": 21
        }
      ]
    },
    {
      "cell_type": "code",
      "source": [
        "corr_matrix = senti.corr()\n",
        "corr_matrix"
      ],
      "metadata": {
        "id": "-KaxXw-rQEBE",
        "colab": {
          "base_uri": "https://localhost:8080/",
          "height": 112
        },
        "outputId": "d418614d-bbad-4938-d7f7-3cf6c286cd5d"
      },
      "execution_count": null,
      "outputs": [
        {
          "output_type": "execute_result",
          "data": {
            "text/plain": [
              "                    reviews.numHelpful  reviews.rating\n",
              "reviews.numHelpful            1.000000       -0.042395\n",
              "reviews.rating               -0.042395        1.000000"
            ],
            "text/html": [
              "\n",
              "  <div id=\"df-47400b8d-a491-4b30-b99e-f96bec5346cb\">\n",
              "    <div class=\"colab-df-container\">\n",
              "      <div>\n",
              "<style scoped>\n",
              "    .dataframe tbody tr th:only-of-type {\n",
              "        vertical-align: middle;\n",
              "    }\n",
              "\n",
              "    .dataframe tbody tr th {\n",
              "        vertical-align: top;\n",
              "    }\n",
              "\n",
              "    .dataframe thead th {\n",
              "        text-align: right;\n",
              "    }\n",
              "</style>\n",
              "<table border=\"1\" class=\"dataframe\">\n",
              "  <thead>\n",
              "    <tr style=\"text-align: right;\">\n",
              "      <th></th>\n",
              "      <th>reviews.numHelpful</th>\n",
              "      <th>reviews.rating</th>\n",
              "    </tr>\n",
              "  </thead>\n",
              "  <tbody>\n",
              "    <tr>\n",
              "      <th>reviews.numHelpful</th>\n",
              "      <td>1.000000</td>\n",
              "      <td>-0.042395</td>\n",
              "    </tr>\n",
              "    <tr>\n",
              "      <th>reviews.rating</th>\n",
              "      <td>-0.042395</td>\n",
              "      <td>1.000000</td>\n",
              "    </tr>\n",
              "  </tbody>\n",
              "</table>\n",
              "</div>\n",
              "      <button class=\"colab-df-convert\" onclick=\"convertToInteractive('df-47400b8d-a491-4b30-b99e-f96bec5346cb')\"\n",
              "              title=\"Convert this dataframe to an interactive table.\"\n",
              "              style=\"display:none;\">\n",
              "        \n",
              "  <svg xmlns=\"http://www.w3.org/2000/svg\" height=\"24px\"viewBox=\"0 0 24 24\"\n",
              "       width=\"24px\">\n",
              "    <path d=\"M0 0h24v24H0V0z\" fill=\"none\"/>\n",
              "    <path d=\"M18.56 5.44l.94 2.06.94-2.06 2.06-.94-2.06-.94-.94-2.06-.94 2.06-2.06.94zm-11 1L8.5 8.5l.94-2.06 2.06-.94-2.06-.94L8.5 2.5l-.94 2.06-2.06.94zm10 10l.94 2.06.94-2.06 2.06-.94-2.06-.94-.94-2.06-.94 2.06-2.06.94z\"/><path d=\"M17.41 7.96l-1.37-1.37c-.4-.4-.92-.59-1.43-.59-.52 0-1.04.2-1.43.59L10.3 9.45l-7.72 7.72c-.78.78-.78 2.05 0 2.83L4 21.41c.39.39.9.59 1.41.59.51 0 1.02-.2 1.41-.59l7.78-7.78 2.81-2.81c.8-.78.8-2.07 0-2.86zM5.41 20L4 18.59l7.72-7.72 1.47 1.35L5.41 20z\"/>\n",
              "  </svg>\n",
              "      </button>\n",
              "      \n",
              "  <style>\n",
              "    .colab-df-container {\n",
              "      display:flex;\n",
              "      flex-wrap:wrap;\n",
              "      gap: 12px;\n",
              "    }\n",
              "\n",
              "    .colab-df-convert {\n",
              "      background-color: #E8F0FE;\n",
              "      border: none;\n",
              "      border-radius: 50%;\n",
              "      cursor: pointer;\n",
              "      display: none;\n",
              "      fill: #1967D2;\n",
              "      height: 32px;\n",
              "      padding: 0 0 0 0;\n",
              "      width: 32px;\n",
              "    }\n",
              "\n",
              "    .colab-df-convert:hover {\n",
              "      background-color: #E2EBFA;\n",
              "      box-shadow: 0px 1px 2px rgba(60, 64, 67, 0.3), 0px 1px 3px 1px rgba(60, 64, 67, 0.15);\n",
              "      fill: #174EA6;\n",
              "    }\n",
              "\n",
              "    [theme=dark] .colab-df-convert {\n",
              "      background-color: #3B4455;\n",
              "      fill: #D2E3FC;\n",
              "    }\n",
              "\n",
              "    [theme=dark] .colab-df-convert:hover {\n",
              "      background-color: #434B5C;\n",
              "      box-shadow: 0px 1px 3px 1px rgba(0, 0, 0, 0.15);\n",
              "      filter: drop-shadow(0px 1px 2px rgba(0, 0, 0, 0.3));\n",
              "      fill: #FFFFFF;\n",
              "    }\n",
              "  </style>\n",
              "\n",
              "      <script>\n",
              "        const buttonEl =\n",
              "          document.querySelector('#df-47400b8d-a491-4b30-b99e-f96bec5346cb button.colab-df-convert');\n",
              "        buttonEl.style.display =\n",
              "          google.colab.kernel.accessAllowed ? 'block' : 'none';\n",
              "\n",
              "        async function convertToInteractive(key) {\n",
              "          const element = document.querySelector('#df-47400b8d-a491-4b30-b99e-f96bec5346cb');\n",
              "          const dataTable =\n",
              "            await google.colab.kernel.invokeFunction('convertToInteractive',\n",
              "                                                     [key], {});\n",
              "          if (!dataTable) return;\n",
              "\n",
              "          const docLinkHtml = 'Like what you see? Visit the ' +\n",
              "            '<a target=\"_blank\" href=https://colab.research.google.com/notebooks/data_table.ipynb>data table notebook</a>'\n",
              "            + ' to learn more about interactive tables.';\n",
              "          element.innerHTML = '';\n",
              "          dataTable['output_type'] = 'display_data';\n",
              "          await google.colab.output.renderOutput(dataTable, element);\n",
              "          const docLink = document.createElement('div');\n",
              "          docLink.innerHTML = docLinkHtml;\n",
              "          element.appendChild(docLink);\n",
              "        }\n",
              "      </script>\n",
              "    </div>\n",
              "  </div>\n",
              "  "
            ]
          },
          "metadata": {},
          "execution_count": 22
        }
      ]
    },
    {
      "cell_type": "code",
      "execution_count": null,
      "metadata": {
        "id": "9Yul52isrpGz",
        "colab": {
          "base_uri": "https://localhost:8080/",
          "height": 287
        },
        "outputId": "e46b8dc2-5596-49a2-9535-ddf164387fce"
      },
      "outputs": [
        {
          "output_type": "execute_result",
          "data": {
            "text/plain": [
              "<matplotlib.axes._subplots.AxesSubplot at 0x7f518b9cd7f0>"
            ]
          },
          "metadata": {},
          "execution_count": 23
        },
        {
          "output_type": "display_data",
          "data": {
            "text/plain": [
              "<Figure size 432x288 with 2 Axes>"
            ],
            "image/png": "[encoded data removed]"
          },
          "metadata": {
            "needs_background": "light"
          }
        }
      ],
      "source": [
        "sns.heatmap(senti.corr())"
      ]
    },
    {
      "cell_type": "code",
      "execution_count": null,
      "metadata": {
        "id": "gHZ48VwCrtRi",
        "colab": {
          "base_uri": "https://localhost:8080/",
          "height": 206
        },
        "outputId": "bb228a3e-76b2-4b59-ce90-de51bfe3da18"
      },
      "outputs": [
        {
          "output_type": "execute_result",
          "data": {
            "text/plain": [
              "                       asins\n",
              "B018Y229OU             10966\n",
              "B00L9EPT8O,B01E6AO69U   6619\n",
              "B00U3FPN4U              5056\n",
              "B00OQVZDJM              3176\n",
              "B01AHB9CN2              2814"
            ],
            "text/html": [
              "\n",
              "  <div id=\"df-418e5ccc-2046-4799-820a-8bfba2b2f1e5\">\n",
              "    <div class=\"colab-df-container\">\n",
              "      <div>\n",
              "<style scoped>\n",
              "    .dataframe tbody tr th:only-of-type {\n",
              "        vertical-align: middle;\n",
              "    }\n",
              "\n",
              "    .dataframe tbody tr th {\n",
              "        vertical-align: top;\n",
              "    }\n",
              "\n",
              "    .dataframe thead th {\n",
              "        text-align: right;\n",
              "    }\n",
              "</style>\n",
              "<table border=\"1\" class=\"dataframe\">\n",
              "  <thead>\n",
              "    <tr style=\"text-align: right;\">\n",
              "      <th></th>\n",
              "      <th>asins</th>\n",
              "    </tr>\n",
              "  </thead>\n",
              "  <tbody>\n",
              "    <tr>\n",
              "      <th>B018Y229OU</th>\n",
              "      <td>10966</td>\n",
              "    </tr>\n",
              "    <tr>\n",
              "      <th>B00L9EPT8O,B01E6AO69U</th>\n",
              "      <td>6619</td>\n",
              "    </tr>\n",
              "    <tr>\n",
              "      <th>B00U3FPN4U</th>\n",
              "      <td>5056</td>\n",
              "    </tr>\n",
              "    <tr>\n",
              "      <th>B00OQVZDJM</th>\n",
              "      <td>3176</td>\n",
              "    </tr>\n",
              "    <tr>\n",
              "      <th>B01AHB9CN2</th>\n",
              "      <td>2814</td>\n",
              "    </tr>\n",
              "  </tbody>\n",
              "</table>\n",
              "</div>\n",
              "      <button class=\"colab-df-convert\" onclick=\"convertToInteractive('df-418e5ccc-2046-4799-820a-8bfba2b2f1e5')\"\n",
              "              title=\"Convert this dataframe to an interactive table.\"\n",
              "              style=\"display:none;\">\n",
              "        \n",
              "  <svg xmlns=\"http://www.w3.org/2000/svg\" height=\"24px\"viewBox=\"0 0 24 24\"\n",
              "       width=\"24px\">\n",
              "    <path d=\"M0 0h24v24H0V0z\" fill=\"none\"/>\n",
              "    <path d=\"M18.56 5.44l.94 2.06.94-2.06 2.06-.94-2.06-.94-.94-2.06-.94 2.06-2.06.94zm-11 1L8.5 8.5l.94-2.06 2.06-.94-2.06-.94L8.5 2.5l-.94 2.06-2.06.94zm10 10l.94 2.06.94-2.06 2.06-.94-2.06-.94-.94-2.06-.94 2.06-2.06.94z\"/><path d=\"M17.41 7.96l-1.37-1.37c-.4-.4-.92-.59-1.43-.59-.52 0-1.04.2-1.43.59L10.3 9.45l-7.72 7.72c-.78.78-.78 2.05 0 2.83L4 21.41c.39.39.9.59 1.41.59.51 0 1.02-.2 1.41-.59l7.78-7.78 2.81-2.81c.8-.78.8-2.07 0-2.86zM5.41 20L4 18.59l7.72-7.72 1.47 1.35L5.41 20z\"/>\n",
              "  </svg>\n",
              "      </button>\n",
              "      \n",
              "  <style>\n",
              "    .colab-df-container {\n",
              "      display:flex;\n",
              "      flex-wrap:wrap;\n",
              "      gap: 12px;\n",
              "    }\n",
              "\n",
              "    .colab-df-convert {\n",
              "      background-color: #E8F0FE;\n",
              "      border: none;\n",
              "      border-radius: 50%;\n",
              "      cursor: pointer;\n",
              "      display: none;\n",
              "      fill: #1967D2;\n",
              "      height: 32px;\n",
              "      padding: 0 0 0 0;\n",
              "      width: 32px;\n",
              "    }\n",
              "\n",
              "    .colab-df-convert:hover {\n",
              "      background-color: #E2EBFA;\n",
              "      box-shadow: 0px 1px 2px rgba(60, 64, 67, 0.3), 0px 1px 3px 1px rgba(60, 64, 67, 0.15);\n",
              "      fill: #174EA6;\n",
              "    }\n",
              "\n",
              "    [theme=dark] .colab-df-convert {\n",
              "      background-color: #3B4455;\n",
              "      fill: #D2E3FC;\n",
              "    }\n",
              "\n",
              "    [theme=dark] .colab-df-convert:hover {\n",
              "      background-color: #434B5C;\n",
              "      box-shadow: 0px 1px 3px 1px rgba(0, 0, 0, 0.15);\n",
              "      filter: drop-shadow(0px 1px 2px rgba(0, 0, 0, 0.3));\n",
              "      fill: #FFFFFF;\n",
              "    }\n",
              "  </style>\n",
              "\n",
              "      <script>\n",
              "        const buttonEl =\n",
              "          document.querySelector('#df-418e5ccc-2046-4799-820a-8bfba2b2f1e5 button.colab-df-convert');\n",
              "        buttonEl.style.display =\n",
              "          google.colab.kernel.accessAllowed ? 'block' : 'none';\n",
              "\n",
              "        async function convertToInteractive(key) {\n",
              "          const element = document.querySelector('#df-418e5ccc-2046-4799-820a-8bfba2b2f1e5');\n",
              "          const dataTable =\n",
              "            await google.colab.kernel.invokeFunction('convertToInteractive',\n",
              "                                                     [key], {});\n",
              "          if (!dataTable) return;\n",
              "\n",
              "          const docLinkHtml = 'Like what you see? Visit the ' +\n",
              "            '<a target=\"_blank\" href=https://colab.research.google.com/notebooks/data_table.ipynb>data table notebook</a>'\n",
              "            + ' to learn more about interactive tables.';\n",
              "          element.innerHTML = '';\n",
              "          dataTable['output_type'] = 'display_data';\n",
              "          await google.colab.output.renderOutput(dataTable, element);\n",
              "          const docLink = document.createElement('div');\n",
              "          docLink.innerHTML = docLinkHtml;\n",
              "          element.appendChild(docLink);\n",
              "        }\n",
              "      </script>\n",
              "    </div>\n",
              "  </div>\n",
              "  "
            ]
          },
          "metadata": {},
          "execution_count": 24
        }
      ],
      "source": [
        "counts = senti[\"asins\"].value_counts().to_frame()\n",
        "counts.head()"
      ]
    },
    {
      "cell_type": "code",
      "execution_count": null,
      "metadata": {
        "id": "hKlo9yeurxJs",
        "colab": {
          "base_uri": "https://localhost:8080/",
          "height": 237
        },
        "outputId": "e6f21971-1bf1-44f0-80e0-7037465d005e"
      },
      "outputs": [
        {
          "output_type": "execute_result",
          "data": {
            "text/plain": [
              "            reviews.rating\n",
              "asins                     \n",
              "B002Y27P3M             NaN\n",
              "B002Y27P6Y        3.500000\n",
              "B005PB2T0S        4.000000\n",
              "B005PB2T2Q        3.666667\n",
              "B006GWO5NE        4.875000"
            ],
            "text/html": [
              "\n",
              "  <div id=\"df-b0bebaac-ad35-4b0b-9f9c-a848ed453a97\">\n",
              "    <div class=\"colab-df-container\">\n",
              "      <div>\n",
              "<style scoped>\n",
              "    .dataframe tbody tr th:only-of-type {\n",
              "        vertical-align: middle;\n",
              "    }\n",
              "\n",
              "    .dataframe tbody tr th {\n",
              "        vertical-align: top;\n",
              "    }\n",
              "\n",
              "    .dataframe thead th {\n",
              "        text-align: right;\n",
              "    }\n",
              "</style>\n",
              "<table border=\"1\" class=\"dataframe\">\n",
              "  <thead>\n",
              "    <tr style=\"text-align: right;\">\n",
              "      <th></th>\n",
              "      <th>reviews.rating</th>\n",
              "    </tr>\n",
              "    <tr>\n",
              "      <th>asins</th>\n",
              "      <th></th>\n",
              "    </tr>\n",
              "  </thead>\n",
              "  <tbody>\n",
              "    <tr>\n",
              "      <th>B002Y27P3M</th>\n",
              "      <td>NaN</td>\n",
              "    </tr>\n",
              "    <tr>\n",
              "      <th>B002Y27P6Y</th>\n",
              "      <td>3.500000</td>\n",
              "    </tr>\n",
              "    <tr>\n",
              "      <th>B005PB2T0S</th>\n",
              "      <td>4.000000</td>\n",
              "    </tr>\n",
              "    <tr>\n",
              "      <th>B005PB2T2Q</th>\n",
              "      <td>3.666667</td>\n",
              "    </tr>\n",
              "    <tr>\n",
              "      <th>B006GWO5NE</th>\n",
              "      <td>4.875000</td>\n",
              "    </tr>\n",
              "  </tbody>\n",
              "</table>\n",
              "</div>\n",
              "      <button class=\"colab-df-convert\" onclick=\"convertToInteractive('df-b0bebaac-ad35-4b0b-9f9c-a848ed453a97')\"\n",
              "              title=\"Convert this dataframe to an interactive table.\"\n",
              "              style=\"display:none;\">\n",
              "        \n",
              "  <svg xmlns=\"http://www.w3.org/2000/svg\" height=\"24px\"viewBox=\"0 0 24 24\"\n",
              "       width=\"24px\">\n",
              "    <path d=\"M0 0h24v24H0V0z\" fill=\"none\"/>\n",
              "    <path d=\"M18.56 5.44l.94 2.06.94-2.06 2.06-.94-2.06-.94-.94-2.06-.94 2.06-2.06.94zm-11 1L8.5 8.5l.94-2.06 2.06-.94-2.06-.94L8.5 2.5l-.94 2.06-2.06.94zm10 10l.94 2.06.94-2.06 2.06-.94-2.06-.94-.94-2.06-.94 2.06-2.06.94z\"/><path d=\"M17.41 7.96l-1.37-1.37c-.4-.4-.92-.59-1.43-.59-.52 0-1.04.2-1.43.59L10.3 9.45l-7.72 7.72c-.78.78-.78 2.05 0 2.83L4 21.41c.39.39.9.59 1.41.59.51 0 1.02-.2 1.41-.59l7.78-7.78 2.81-2.81c.8-.78.8-2.07 0-2.86zM5.41 20L4 18.59l7.72-7.72 1.47 1.35L5.41 20z\"/>\n",
              "  </svg>\n",
              "      </button>\n",
              "      \n",
              "  <style>\n",
              "    .colab-df-container {\n",
              "      display:flex;\n",
              "      flex-wrap:wrap;\n",
              "      gap: 12px;\n",
              "    }\n",
              "\n",
              "    .colab-df-convert {\n",
              "      background-color: #E8F0FE;\n",
              "      border: none;\n",
              "      border-radius: 50%;\n",
              "      cursor: pointer;\n",
              "      display: none;\n",
              "      fill: #1967D2;\n",
              "      height: 32px;\n",
              "      padding: 0 0 0 0;\n",
              "      width: 32px;\n",
              "    }\n",
              "\n",
              "    .colab-df-convert:hover {\n",
              "      background-color: #E2EBFA;\n",
              "      box-shadow: 0px 1px 2px rgba(60, 64, 67, 0.3), 0px 1px 3px 1px rgba(60, 64, 67, 0.15);\n",
              "      fill: #174EA6;\n",
              "    }\n",
              "\n",
              "    [theme=dark] .colab-df-convert {\n",
              "      background-color: #3B4455;\n",
              "      fill: #D2E3FC;\n",
              "    }\n",
              "\n",
              "    [theme=dark] .colab-df-convert:hover {\n",
              "      background-color: #434B5C;\n",
              "      box-shadow: 0px 1px 3px 1px rgba(0, 0, 0, 0.15);\n",
              "      filter: drop-shadow(0px 1px 2px rgba(0, 0, 0, 0.3));\n",
              "      fill: #FFFFFF;\n",
              "    }\n",
              "  </style>\n",
              "\n",
              "      <script>\n",
              "        const buttonEl =\n",
              "          document.querySelector('#df-b0bebaac-ad35-4b0b-9f9c-a848ed453a97 button.colab-df-convert');\n",
              "        buttonEl.style.display =\n",
              "          google.colab.kernel.accessAllowed ? 'block' : 'none';\n",
              "\n",
              "        async function convertToInteractive(key) {\n",
              "          const element = document.querySelector('#df-b0bebaac-ad35-4b0b-9f9c-a848ed453a97');\n",
              "          const dataTable =\n",
              "            await google.colab.kernel.invokeFunction('convertToInteractive',\n",
              "                                                     [key], {});\n",
              "          if (!dataTable) return;\n",
              "\n",
              "          const docLinkHtml = 'Like what you see? Visit the ' +\n",
              "            '<a target=\"_blank\" href=https://colab.research.google.com/notebooks/data_table.ipynb>data table notebook</a>'\n",
              "            + ' to learn more about interactive tables.';\n",
              "          element.innerHTML = '';\n",
              "          dataTable['output_type'] = 'display_data';\n",
              "          await google.colab.output.renderOutput(dataTable, element);\n",
              "          const docLink = document.createElement('div');\n",
              "          docLink.innerHTML = docLinkHtml;\n",
              "          element.appendChild(docLink);\n",
              "        }\n",
              "      </script>\n",
              "    </div>\n",
              "  </div>\n",
              "  "
            ]
          },
          "metadata": {},
          "execution_count": 25
        }
      ],
      "source": [
        "avg_rating = senti.groupby(\"asins\")[\"reviews.rating\"].mean().to_frame()\n",
        "avg_rating.head()"
      ]
    },
    {
      "cell_type": "code",
      "execution_count": null,
      "metadata": {
        "id": "3FrmWi61vvoV",
        "colab": {
          "base_uri": "https://localhost:8080/",
          "height": 990
        },
        "outputId": "e0effa15-36a1-45ec-b97a-28c290f63670"
      },
      "outputs": [
        {
          "output_type": "execute_result",
          "data": {
            "text/plain": [
              "                       asins  reviews.rating\n",
              "B018Y229OU             10966        4.454222\n",
              "B00L9EPT8O,B01E6AO69U   6619        4.671098\n",
              "B00U3FPN4U              5056        4.707278\n",
              "B00OQVZDJM              3176        4.772355\n",
              "B01AHB9CN2              2814        4.586709\n",
              "B018Y23MNM              1685        4.527003\n",
              "B018Y225IA              1038        4.504817\n",
              "B01BH83OOM               636        4.531447\n",
              "B00IOY8XWQ               580        4.729310\n",
              "B01J2G4VBG               402        4.440299\n",
              "B00TSUGXKE               372        4.424731\n",
              "B018SZT3BK               270        4.555556\n",
              "B0189XYY0Q               256        4.558594\n",
              "B00ZV9PXP2               212        4.533019\n",
              "B01AHB9CYG               158        4.588608\n",
              "B00QFQRELG                73        4.205479\n",
              "B00VINDBJK                67        4.611940\n",
              "B00IOYAM4I                51        4.862745\n",
              "B01BFIBRIE                30        4.600000\n",
              "B00QJDU3KY                19        4.666667\n",
              "B002Y27P3M                19             NaN\n",
              "B01J4ORNHU                16        4.500000\n",
              "B00QL1ZN3G                15        3.066667\n",
              "B01AHB9C1E                14        4.500000\n",
              "B006GWO5WK                13        2.461538\n",
              "B00LW9XOJM                13        3.923077\n",
              "B002Y27P6Y                10        3.500000\n",
              "B018Y22BI4                10        4.700000\n",
              "B006GWO5NE                 8        4.875000\n",
              "B00UH4D8G2                 8        3.125000"
            ],
            "text/html": [
              "\n",
              "  <div id=\"df-ff1fc727-e93f-42fe-b693-247714cb7d23\">\n",
              "    <div class=\"colab-df-container\">\n",
              "      <div>\n",
              "<style scoped>\n",
              "    .dataframe tbody tr th:only-of-type {\n",
              "        vertical-align: middle;\n",
              "    }\n",
              "\n",
              "    .dataframe tbody tr th {\n",
              "        vertical-align: top;\n",
              "    }\n",
              "\n",
              "    .dataframe thead th {\n",
              "        text-align: right;\n",
              "    }\n",
              "</style>\n",
              "<table border=\"1\" class=\"dataframe\">\n",
              "  <thead>\n",
              "    <tr style=\"text-align: right;\">\n",
              "      <th></th>\n",
              "      <th>asins</th>\n",
              "      <th>reviews.rating</th>\n",
              "    </tr>\n",
              "  </thead>\n",
              "  <tbody>\n",
              "    <tr>\n",
              "      <th>B018Y229OU</th>\n",
              "      <td>10966</td>\n",
              "      <td>4.454222</td>\n",
              "    </tr>\n",
              "    <tr>\n",
              "      <th>B00L9EPT8O,B01E6AO69U</th>\n",
              "      <td>6619</td>\n",
              "      <td>4.671098</td>\n",
              "    </tr>\n",
              "    <tr>\n",
              "      <th>B00U3FPN4U</th>\n",
              "      <td>5056</td>\n",
              "      <td>4.707278</td>\n",
              "    </tr>\n",
              "    <tr>\n",
              "      <th>B00OQVZDJM</th>\n",
              "      <td>3176</td>\n",
              "      <td>4.772355</td>\n",
              "    </tr>\n",
              "    <tr>\n",
              "      <th>B01AHB9CN2</th>\n",
              "      <td>2814</td>\n",
              "      <td>4.586709</td>\n",
              "    </tr>\n",
              "    <tr>\n",
              "      <th>B018Y23MNM</th>\n",
              "      <td>1685</td>\n",
              "      <td>4.527003</td>\n",
              "    </tr>\n",
              "    <tr>\n",
              "      <th>B018Y225IA</th>\n",
              "      <td>1038</td>\n",
              "      <td>4.504817</td>\n",
              "    </tr>\n",
              "    <tr>\n",
              "      <th>B01BH83OOM</th>\n",
              "      <td>636</td>\n",
              "      <td>4.531447</td>\n",
              "    </tr>\n",
              "    <tr>\n",
              "      <th>B00IOY8XWQ</th>\n",
              "      <td>580</td>\n",
              "      <td>4.729310</td>\n",
              "    </tr>\n",
              "    <tr>\n",
              "      <th>B01J2G4VBG</th>\n",
              "      <td>402</td>\n",
              "      <td>4.440299</td>\n",
              "    </tr>\n",
              "    <tr>\n",
              "      <th>B00TSUGXKE</th>\n",
              "      <td>372</td>\n",
              "      <td>4.424731</td>\n",
              "    </tr>\n",
              "    <tr>\n",
              "      <th>B018SZT3BK</th>\n",
              "      <td>270</td>\n",
              "      <td>4.555556</td>\n",
              "    </tr>\n",
              "    <tr>\n",
              "      <th>B0189XYY0Q</th>\n",
              "      <td>256</td>\n",
              "      <td>4.558594</td>\n",
              "    </tr>\n",
              "    <tr>\n",
              "      <th>B00ZV9PXP2</th>\n",
              "      <td>212</td>\n",
              "      <td>4.533019</td>\n",
              "    </tr>\n",
              "    <tr>\n",
              "      <th>B01AHB9CYG</th>\n",
              "      <td>158</td>\n",
              "      <td>4.588608</td>\n",
              "    </tr>\n",
              "    <tr>\n",
              "      <th>B00QFQRELG</th>\n",
              "      <td>73</td>\n",
              "      <td>4.205479</td>\n",
              "    </tr>\n",
              "    <tr>\n",
              "      <th>B00VINDBJK</th>\n",
              "      <td>67</td>\n",
              "      <td>4.611940</td>\n",
              "    </tr>\n",
              "    <tr>\n",
              "      <th>B00IOYAM4I</th>\n",
              "      <td>51</td>\n",
              "      <td>4.862745</td>\n",
              "    </tr>\n",
              "    <tr>\n",
              "      <th>B01BFIBRIE</th>\n",
              "      <td>30</td>\n",
              "      <td>4.600000</td>\n",
              "    </tr>\n",
              "    <tr>\n",
              "      <th>B00QJDU3KY</th>\n",
              "      <td>19</td>\n",
              "      <td>4.666667</td>\n",
              "    </tr>\n",
              "    <tr>\n",
              "      <th>B002Y27P3M</th>\n",
              "      <td>19</td>\n",
              "      <td>NaN</td>\n",
              "    </tr>\n",
              "    <tr>\n",
              "      <th>B01J4ORNHU</th>\n",
              "      <td>16</td>\n",
              "      <td>4.500000</td>\n",
              "    </tr>\n",
              "    <tr>\n",
              "      <th>B00QL1ZN3G</th>\n",
              "      <td>15</td>\n",
              "      <td>3.066667</td>\n",
              "    </tr>\n",
              "    <tr>\n",
              "      <th>B01AHB9C1E</th>\n",
              "      <td>14</td>\n",
              "      <td>4.500000</td>\n",
              "    </tr>\n",
              "    <tr>\n",
              "      <th>B006GWO5WK</th>\n",
              "      <td>13</td>\n",
              "      <td>2.461538</td>\n",
              "    </tr>\n",
              "    <tr>\n",
              "      <th>B00LW9XOJM</th>\n",
              "      <td>13</td>\n",
              "      <td>3.923077</td>\n",
              "    </tr>\n",
              "    <tr>\n",
              "      <th>B002Y27P6Y</th>\n",
              "      <td>10</td>\n",
              "      <td>3.500000</td>\n",
              "    </tr>\n",
              "    <tr>\n",
              "      <th>B018Y22BI4</th>\n",
              "      <td>10</td>\n",
              "      <td>4.700000</td>\n",
              "    </tr>\n",
              "    <tr>\n",
              "      <th>B006GWO5NE</th>\n",
              "      <td>8</td>\n",
              "      <td>4.875000</td>\n",
              "    </tr>\n",
              "    <tr>\n",
              "      <th>B00UH4D8G2</th>\n",
              "      <td>8</td>\n",
              "      <td>3.125000</td>\n",
              "    </tr>\n",
              "  </tbody>\n",
              "</table>\n",
              "</div>\n",
              "      <button class=\"colab-df-convert\" onclick=\"convertToInteractive('df-ff1fc727-e93f-42fe-b693-247714cb7d23')\"\n",
              "              title=\"Convert this dataframe to an interactive table.\"\n",
              "              style=\"display:none;\">\n",
              "        \n",
              "  <svg xmlns=\"http://www.w3.org/2000/svg\" height=\"24px\"viewBox=\"0 0 24 24\"\n",
              "       width=\"24px\">\n",
              "    <path d=\"M0 0h24v24H0V0z\" fill=\"none\"/>\n",
              "    <path d=\"M18.56 5.44l.94 2.06.94-2.06 2.06-.94-2.06-.94-.94-2.06-.94 2.06-2.06.94zm-11 1L8.5 8.5l.94-2.06 2.06-.94-2.06-.94L8.5 2.5l-.94 2.06-2.06.94zm10 10l.94 2.06.94-2.06 2.06-.94-2.06-.94-.94-2.06-.94 2.06-2.06.94z\"/><path d=\"M17.41 7.96l-1.37-1.37c-.4-.4-.92-.59-1.43-.59-.52 0-1.04.2-1.43.59L10.3 9.45l-7.72 7.72c-.78.78-.78 2.05 0 2.83L4 21.41c.39.39.9.59 1.41.59.51 0 1.02-.2 1.41-.59l7.78-7.78 2.81-2.81c.8-.78.8-2.07 0-2.86zM5.41 20L4 18.59l7.72-7.72 1.47 1.35L5.41 20z\"/>\n",
              "  </svg>\n",
              "      </button>\n",
              "      \n",
              "  <style>\n",
              "    .colab-df-container {\n",
              "      display:flex;\n",
              "      flex-wrap:wrap;\n",
              "      gap: 12px;\n",
              "    }\n",
              "\n",
              "    .colab-df-convert {\n",
              "      background-color: #E8F0FE;\n",
              "      border: none;\n",
              "      border-radius: 50%;\n",
              "      cursor: pointer;\n",
              "      display: none;\n",
              "      fill: #1967D2;\n",
              "      height: 32px;\n",
              "      padding: 0 0 0 0;\n",
              "      width: 32px;\n",
              "    }\n",
              "\n",
              "    .colab-df-convert:hover {\n",
              "      background-color: #E2EBFA;\n",
              "      box-shadow: 0px 1px 2px rgba(60, 64, 67, 0.3), 0px 1px 3px 1px rgba(60, 64, 67, 0.15);\n",
              "      fill: #174EA6;\n",
              "    }\n",
              "\n",
              "    [theme=dark] .colab-df-convert {\n",
              "      background-color: #3B4455;\n",
              "      fill: #D2E3FC;\n",
              "    }\n",
              "\n",
              "    [theme=dark] .colab-df-convert:hover {\n",
              "      background-color: #434B5C;\n",
              "      box-shadow: 0px 1px 3px 1px rgba(0, 0, 0, 0.15);\n",
              "      filter: drop-shadow(0px 1px 2px rgba(0, 0, 0, 0.3));\n",
              "      fill: #FFFFFF;\n",
              "    }\n",
              "  </style>\n",
              "\n",
              "      <script>\n",
              "        const buttonEl =\n",
              "          document.querySelector('#df-ff1fc727-e93f-42fe-b693-247714cb7d23 button.colab-df-convert');\n",
              "        buttonEl.style.display =\n",
              "          google.colab.kernel.accessAllowed ? 'block' : 'none';\n",
              "\n",
              "        async function convertToInteractive(key) {\n",
              "          const element = document.querySelector('#df-ff1fc727-e93f-42fe-b693-247714cb7d23');\n",
              "          const dataTable =\n",
              "            await google.colab.kernel.invokeFunction('convertToInteractive',\n",
              "                                                     [key], {});\n",
              "          if (!dataTable) return;\n",
              "\n",
              "          const docLinkHtml = 'Like what you see? Visit the ' +\n",
              "            '<a target=\"_blank\" href=https://colab.research.google.com/notebooks/data_table.ipynb>data table notebook</a>'\n",
              "            + ' to learn more about interactive tables.';\n",
              "          element.innerHTML = '';\n",
              "          dataTable['output_type'] = 'display_data';\n",
              "          await google.colab.output.renderOutput(dataTable, element);\n",
              "          const docLink = document.createElement('div');\n",
              "          docLink.innerHTML = docLinkHtml;\n",
              "          element.appendChild(docLink);\n",
              "        }\n",
              "      </script>\n",
              "    </div>\n",
              "  </div>\n",
              "  "
            ]
          },
          "metadata": {},
          "execution_count": 26
        }
      ],
      "source": [
        "table = counts.join(avg_rating)\n",
        "table.head(30)"
      ]
    },
    {
      "cell_type": "code",
      "source": [
        "plt.scatter(\"asins\", \"reviews.rating\", data=table)\n",
        "table.corr()"
      ],
      "metadata": {
        "id": "wFrAUWnXYAim",
        "colab": {
          "base_uri": "https://localhost:8080/",
          "height": 360
        },
        "outputId": "9d5301d9-de74-4974-b196-a2b83a83e352"
      },
      "execution_count": null,
      "outputs": [
        {
          "output_type": "execute_result",
          "data": {
            "text/plain": [
              "                   asins  reviews.rating\n",
              "asins           1.000000        0.128888\n",
              "reviews.rating  0.128888        1.000000"
            ],
            "text/html": [
              "\n",
              "  <div id=\"df-744ae886-b7eb-42d1-b624-af0171c06d3c\">\n",
              "    <div class=\"colab-df-container\">\n",
              "      <div>\n",
              "<style scoped>\n",
              "    .dataframe tbody tr th:only-of-type {\n",
              "        vertical-align: middle;\n",
              "    }\n",
              "\n",
              "    .dataframe tbody tr th {\n",
              "        vertical-align: top;\n",
              "    }\n",
              "\n",
              "    .dataframe thead th {\n",
              "        text-align: right;\n",
              "    }\n",
              "</style>\n",
              "<table border=\"1\" class=\"dataframe\">\n",
              "  <thead>\n",
              "    <tr style=\"text-align: right;\">\n",
              "      <th></th>\n",
              "      <th>asins</th>\n",
              "      <th>reviews.rating</th>\n",
              "    </tr>\n",
              "  </thead>\n",
              "  <tbody>\n",
              "    <tr>\n",
              "      <th>asins</th>\n",
              "      <td>1.000000</td>\n",
              "      <td>0.128888</td>\n",
              "    </tr>\n",
              "    <tr>\n",
              "      <th>reviews.rating</th>\n",
              "      <td>0.128888</td>\n",
              "      <td>1.000000</td>\n",
              "    </tr>\n",
              "  </tbody>\n",
              "</table>\n",
              "</div>\n",
              "      <button class=\"colab-df-convert\" onclick=\"convertToInteractive('df-744ae886-b7eb-42d1-b624-af0171c06d3c')\"\n",
              "              title=\"Convert this dataframe to an interactive table.\"\n",
              "              style=\"display:none;\">\n",
              "        \n",
              "  <svg xmlns=\"http://www.w3.org/2000/svg\" height=\"24px\"viewBox=\"0 0 24 24\"\n",
              "       width=\"24px\">\n",
              "    <path d=\"M0 0h24v24H0V0z\" fill=\"none\"/>\n",
              "    <path d=\"M18.56 5.44l.94 2.06.94-2.06 2.06-.94-2.06-.94-.94-2.06-.94 2.06-2.06.94zm-11 1L8.5 8.5l.94-2.06 2.06-.94-2.06-.94L8.5 2.5l-.94 2.06-2.06.94zm10 10l.94 2.06.94-2.06 2.06-.94-2.06-.94-.94-2.06-.94 2.06-2.06.94z\"/><path d=\"M17.41 7.96l-1.37-1.37c-.4-.4-.92-.59-1.43-.59-.52 0-1.04.2-1.43.59L10.3 9.45l-7.72 7.72c-.78.78-.78 2.05 0 2.83L4 21.41c.39.39.9.59 1.41.59.51 0 1.02-.2 1.41-.59l7.78-7.78 2.81-2.81c.8-.78.8-2.07 0-2.86zM5.41 20L4 18.59l7.72-7.72 1.47 1.35L5.41 20z\"/>\n",
              "  </svg>\n",
              "      </button>\n",
              "      \n",
              "  <style>\n",
              "    .colab-df-container {\n",
              "      display:flex;\n",
              "      flex-wrap:wrap;\n",
              "      gap: 12px;\n",
              "    }\n",
              "\n",
              "    .colab-df-convert {\n",
              "      background-color: #E8F0FE;\n",
              "      border: none;\n",
              "      border-radius: 50%;\n",
              "      cursor: pointer;\n",
              "      display: none;\n",
              "      fill: #1967D2;\n",
              "      height: 32px;\n",
              "      padding: 0 0 0 0;\n",
              "      width: 32px;\n",
              "    }\n",
              "\n",
              "    .colab-df-convert:hover {\n",
              "      background-color: #E2EBFA;\n",
              "      box-shadow: 0px 1px 2px rgba(60, 64, 67, 0.3), 0px 1px 3px 1px rgba(60, 64, 67, 0.15);\n",
              "      fill: #174EA6;\n",
              "    }\n",
              "\n",
              "    [theme=dark] .colab-df-convert {\n",
              "      background-color: #3B4455;\n",
              "      fill: #D2E3FC;\n",
              "    }\n",
              "\n",
              "    [theme=dark] .colab-df-convert:hover {\n",
              "      background-color: #434B5C;\n",
              "      box-shadow: 0px 1px 3px 1px rgba(0, 0, 0, 0.15);\n",
              "      filter: drop-shadow(0px 1px 2px rgba(0, 0, 0, 0.3));\n",
              "      fill: #FFFFFF;\n",
              "    }\n",
              "  </style>\n",
              "\n",
              "      <script>\n",
              "        const buttonEl =\n",
              "          document.querySelector('#df-744ae886-b7eb-42d1-b624-af0171c06d3c button.colab-df-convert');\n",
              "        buttonEl.style.display =\n",
              "          google.colab.kernel.accessAllowed ? 'block' : 'none';\n",
              "\n",
              "        async function convertToInteractive(key) {\n",
              "          const element = document.querySelector('#df-744ae886-b7eb-42d1-b624-af0171c06d3c');\n",
              "          const dataTable =\n",
              "            await google.colab.kernel.invokeFunction('convertToInteractive',\n",
              "                                                     [key], {});\n",
              "          if (!dataTable) return;\n",
              "\n",
              "          const docLinkHtml = 'Like what you see? Visit the ' +\n",
              "            '<a target=\"_blank\" href=https://colab.research.google.com/notebooks/data_table.ipynb>data table notebook</a>'\n",
              "            + ' to learn more about interactive tables.';\n",
              "          element.innerHTML = '';\n",
              "          dataTable['output_type'] = 'display_data';\n",
              "          await google.colab.output.renderOutput(dataTable, element);\n",
              "          const docLink = document.createElement('div');\n",
              "          docLink.innerHTML = docLinkHtml;\n",
              "          element.appendChild(docLink);\n",
              "        }\n",
              "      </script>\n",
              "    </div>\n",
              "  </div>\n",
              "  "
            ]
          },
          "metadata": {},
          "execution_count": 27
        },
        {
          "output_type": "display_data",
          "data": {
            "text/plain": [
              "<Figure size 432x288 with 1 Axes>"
            ],
            "image/png": "[encoded data removed]"
          },
          "metadata": {
            "needs_background": "light"
          }
        }
      ]
    },
    {
      "cell_type": "code",
      "source": [
        "def sentiment_labeler(scores):\n",
        "  if scores==5 or scores==4:\n",
        "    return \"Positive\"\n",
        "  elif scores==3:\n",
        "    return \"Neutral\"\n",
        "  else:\n",
        "    return \"Negative\"\n",
        "senti_data[\"sentiment_label\"]=senti_data[\"reviews.rating\"].apply(sentiment_labeler)\n",
        "senti_data[\"sentiment_label\"].value_counts().sort_values().plot.pie()\n",
        "\n",
        "senti_data[\"sentiment_label\"][:20]"
      ],
      "metadata": {
        "id": "l3PyaRz0YAVc",
        "colab": {
          "base_uri": "https://localhost:8080/",
          "height": 636
        },
        "outputId": "dc4793b0-84b7-4732-aa70-695874b5d5aa"
      },
      "execution_count": null,
      "outputs": [
        {
          "output_type": "execute_result",
          "data": {
            "text/plain": [
              "0     Positive\n",
              "1     Positive\n",
              "2     Positive\n",
              "3     Positive\n",
              "4     Positive\n",
              "5     Positive\n",
              "6     Positive\n",
              "7     Positive\n",
              "8     Positive\n",
              "9     Positive\n",
              "10    Positive\n",
              "11    Positive\n",
              "12    Positive\n",
              "13    Positive\n",
              "14    Positive\n",
              "15    Positive\n",
              "16    Positive\n",
              "17    Positive\n",
              "18    Positive\n",
              "19    Positive\n",
              "Name: sentiment_label, dtype: object"
            ]
          },
          "metadata": {},
          "execution_count": 28
        },
        {
          "output_type": "display_data",
          "data": {
            "text/plain": [
              "<Figure size 432x288 with 1 Axes>"
            ],
            "image/png": "[encoded data removed]"
          },
          "metadata": {}
        }
      ]
    },
    {
      "cell_type": "code",
      "source": [
        "#Split into Train/Test\n",
        "from sklearn.model_selection import StratifiedShuffleSplit\n",
        "split_data = StratifiedShuffleSplit(n_splits=5, test_size=0.2)\n",
        "for train_index, test_index in split_data.split(senti_data,senti_data[\"reviews.rating\"]):\n",
        "    train_data = senti_data.reindex(train_index)\n",
        "    test_data = senti_data.reindex(test_index)\n",
        "print(train_data.shape)\n",
        "\n",
        "print(test_data.shape)\n",
        "train_data"
      ],
      "metadata": {
        "id": "ZEj4rmaGYATW",
        "colab": {
          "base_uri": "https://localhost:8080/",
          "height": 460
        },
        "outputId": "650cd820-95a8-49b5-a161-0c4f5080766b"
      },
      "execution_count": null,
      "outputs": [
        {
          "output_type": "stream",
          "name": "stdout",
          "text": [
            "(27696, 4)\n",
            "(6925, 4)\n"
          ]
        },
        {
          "output_type": "execute_result",
          "data": {
            "text/plain": [
              "       reviews.rating                                       reviews.text  \\\n",
              "31495             3.0  It's so hard to decide If i should recommend t...   \n",
              "33293             5.0  This unit has a powerful processor, load conte...   \n",
              "23233             5.0  Absolutely adore my Echo. I am always skeptica...   \n",
              "11994             4.0  Bought for my kids. They each have one and lov...   \n",
              "13565             5.0  I picked up this tablet primarily so my husban...   \n",
              "...               ...                                                ...   \n",
              "2029              4.0  It's easy and intuitive. The only criticism is...   \n",
              "25325             5.0  excedes my expections is easy to use and Amazo...   \n",
              "9253              4.0  I do not know much about this tablet and have ...   \n",
              "26893             3.0  The best thing about the echo is the sound qua...   \n",
              "17125             5.0  Bought this for my Granddaughter's 10th birthd...   \n",
              "\n",
              "                                 reviews.title sentiment_label  \n",
              "31495                             Good and Bad         Neutral  \n",
              "33293                    High performance unit        Positive  \n",
              "23233                              Love Alexa!        Positive  \n",
              "11994               Great tablet for the price        Positive  \n",
              "13565                   Easy Tablet Easy Price        Positive  \n",
              "...                                        ...             ...  \n",
              "2029                        Easy and intuitive        Positive  \n",
              "25325                        Echo is enjoyable        Positive  \n",
              "9253   Great little tablet for a 1st time user        Positive  \n",
              "26893                               Needs work         Neutral  \n",
              "17125                              It's a Hit!        Positive  \n",
              "\n",
              "[27696 rows x 4 columns]"
            ],
            "text/html": [
              "\n",
              "  <div id=\"df-20659a43-61d8-4d00-9937-8939f89cb396\">\n",
              "    <div class=\"colab-df-container\">\n",
              "      <div>\n",
              "<style scoped>\n",
              "    .dataframe tbody tr th:only-of-type {\n",
              "        vertical-align: middle;\n",
              "    }\n",
              "\n",
              "    .dataframe tbody tr th {\n",
              "        vertical-align: top;\n",
              "    }\n",
              "\n",
              "    .dataframe thead th {\n",
              "        text-align: right;\n",
              "    }\n",
              "</style>\n",
              "<table border=\"1\" class=\"dataframe\">\n",
              "  <thead>\n",
              "    <tr style=\"text-align: right;\">\n",
              "      <th></th>\n",
              "      <th>reviews.rating</th>\n",
              "      <th>reviews.text</th>\n",
              "      <th>reviews.title</th>\n",
              "      <th>sentiment_label</th>\n",
              "    </tr>\n",
              "  </thead>\n",
              "  <tbody>\n",
              "    <tr>\n",
              "      <th>31495</th>\n",
              "      <td>3.0</td>\n",
              "      <td>It's so hard to decide If i should recommend t...</td>\n",
              "      <td>Good and Bad</td>\n",
              "      <td>Neutral</td>\n",
              "    </tr>\n",
              "    <tr>\n",
              "      <th>33293</th>\n",
              "      <td>5.0</td>\n",
              "      <td>This unit has a powerful processor, load conte...</td>\n",
              "      <td>High performance unit</td>\n",
              "      <td>Positive</td>\n",
              "    </tr>\n",
              "    <tr>\n",
              "      <th>23233</th>\n",
              "      <td>5.0</td>\n",
              "      <td>Absolutely adore my Echo. I am always skeptica...</td>\n",
              "      <td>Love Alexa!</td>\n",
              "      <td>Positive</td>\n",
              "    </tr>\n",
              "    <tr>\n",
              "      <th>11994</th>\n",
              "      <td>4.0</td>\n",
              "      <td>Bought for my kids. They each have one and lov...</td>\n",
              "      <td>Great tablet for the price</td>\n",
              "      <td>Positive</td>\n",
              "    </tr>\n",
              "    <tr>\n",
              "      <th>13565</th>\n",
              "      <td>5.0</td>\n",
              "      <td>I picked up this tablet primarily so my husban...</td>\n",
              "      <td>Easy Tablet Easy Price</td>\n",
              "      <td>Positive</td>\n",
              "    </tr>\n",
              "    <tr>\n",
              "      <th>...</th>\n",
              "      <td>...</td>\n",
              "      <td>...</td>\n",
              "      <td>...</td>\n",
              "      <td>...</td>\n",
              "    </tr>\n",
              "    <tr>\n",
              "      <th>2029</th>\n",
              "      <td>4.0</td>\n",
              "      <td>It's easy and intuitive. The only criticism is...</td>\n",
              "      <td>Easy and intuitive</td>\n",
              "      <td>Positive</td>\n",
              "    </tr>\n",
              "    <tr>\n",
              "      <th>25325</th>\n",
              "      <td>5.0</td>\n",
              "      <td>excedes my expections is easy to use and Amazo...</td>\n",
              "      <td>Echo is enjoyable</td>\n",
              "      <td>Positive</td>\n",
              "    </tr>\n",
              "    <tr>\n",
              "      <th>9253</th>\n",
              "      <td>4.0</td>\n",
              "      <td>I do not know much about this tablet and have ...</td>\n",
              "      <td>Great little tablet for a 1st time user</td>\n",
              "      <td>Positive</td>\n",
              "    </tr>\n",
              "    <tr>\n",
              "      <th>26893</th>\n",
              "      <td>3.0</td>\n",
              "      <td>The best thing about the echo is the sound qua...</td>\n",
              "      <td>Needs work</td>\n",
              "      <td>Neutral</td>\n",
              "    </tr>\n",
              "    <tr>\n",
              "      <th>17125</th>\n",
              "      <td>5.0</td>\n",
              "      <td>Bought this for my Granddaughter's 10th birthd...</td>\n",
              "      <td>It's a Hit!</td>\n",
              "      <td>Positive</td>\n",
              "    </tr>\n",
              "  </tbody>\n",
              "</table>\n",
              "<p>27696 rows × 4 columns</p>\n",
              "</div>\n",
              "      <button class=\"colab-df-convert\" onclick=\"convertToInteractive('df-20659a43-61d8-4d00-9937-8939f89cb396')\"\n",
              "              title=\"Convert this dataframe to an interactive table.\"\n",
              "              style=\"display:none;\">\n",
              "        \n",
              "  <svg xmlns=\"http://www.w3.org/2000/svg\" height=\"24px\"viewBox=\"0 0 24 24\"\n",
              "       width=\"24px\">\n",
              "    <path d=\"M0 0h24v24H0V0z\" fill=\"none\"/>\n",
              "    <path d=\"M18.56 5.44l.94 2.06.94-2.06 2.06-.94-2.06-.94-.94-2.06-.94 2.06-2.06.94zm-11 1L8.5 8.5l.94-2.06 2.06-.94-2.06-.94L8.5 2.5l-.94 2.06-2.06.94zm10 10l.94 2.06.94-2.06 2.06-.94-2.06-.94-.94-2.06-.94 2.06-2.06.94z\"/><path d=\"M17.41 7.96l-1.37-1.37c-.4-.4-.92-.59-1.43-.59-.52 0-1.04.2-1.43.59L10.3 9.45l-7.72 7.72c-.78.78-.78 2.05 0 2.83L4 21.41c.39.39.9.59 1.41.59.51 0 1.02-.2 1.41-.59l7.78-7.78 2.81-2.81c.8-.78.8-2.07 0-2.86zM5.41 20L4 18.59l7.72-7.72 1.47 1.35L5.41 20z\"/>\n",
              "  </svg>\n",
              "      </button>\n",
              "      \n",
              "  <style>\n",
              "    .colab-df-container {\n",
              "      display:flex;\n",
              "      flex-wrap:wrap;\n",
              "      gap: 12px;\n",
              "    }\n",
              "\n",
              "    .colab-df-convert {\n",
              "      background-color: #E8F0FE;\n",
              "      border: none;\n",
              "      border-radius: 50%;\n",
              "      cursor: pointer;\n",
              "      display: none;\n",
              "      fill: #1967D2;\n",
              "      height: 32px;\n",
              "      padding: 0 0 0 0;\n",
              "      width: 32px;\n",
              "    }\n",
              "\n",
              "    .colab-df-convert:hover {\n",
              "      background-color: #E2EBFA;\n",
              "      box-shadow: 0px 1px 2px rgba(60, 64, 67, 0.3), 0px 1px 3px 1px rgba(60, 64, 67, 0.15);\n",
              "      fill: #174EA6;\n",
              "    }\n",
              "\n",
              "    [theme=dark] .colab-df-convert {\n",
              "      background-color: #3B4455;\n",
              "      fill: #D2E3FC;\n",
              "    }\n",
              "\n",
              "    [theme=dark] .colab-df-convert:hover {\n",
              "      background-color: #434B5C;\n",
              "      box-shadow: 0px 1px 3px 1px rgba(0, 0, 0, 0.15);\n",
              "      filter: drop-shadow(0px 1px 2px rgba(0, 0, 0, 0.3));\n",
              "      fill: #FFFFFF;\n",
              "    }\n",
              "  </style>\n",
              "\n",
              "      <script>\n",
              "        const buttonEl =\n",
              "          document.querySelector('#df-20659a43-61d8-4d00-9937-8939f89cb396 button.colab-df-convert');\n",
              "        buttonEl.style.display =\n",
              "          google.colab.kernel.accessAllowed ? 'block' : 'none';\n",
              "\n",
              "        async function convertToInteractive(key) {\n",
              "          const element = document.querySelector('#df-20659a43-61d8-4d00-9937-8939f89cb396');\n",
              "          const dataTable =\n",
              "            await google.colab.kernel.invokeFunction('convertToInteractive',\n",
              "                                                     [key], {});\n",
              "          if (!dataTable) return;\n",
              "\n",
              "          const docLinkHtml = 'Like what you see? Visit the ' +\n",
              "            '<a target=\"_blank\" href=https://colab.research.google.com/notebooks/data_table.ipynb>data table notebook</a>'\n",
              "            + ' to learn more about interactive tables.';\n",
              "          element.innerHTML = '';\n",
              "          dataTable['output_type'] = 'display_data';\n",
              "          await google.colab.output.renderOutput(dataTable, element);\n",
              "          const docLink = document.createElement('div');\n",
              "          docLink.innerHTML = docLinkHtml;\n",
              "          element.appendChild(docLink);\n",
              "        }\n",
              "      </script>\n",
              "    </div>\n",
              "  </div>\n",
              "  "
            ]
          },
          "metadata": {},
          "execution_count": 29
        }
      ]
    },
    {
      "cell_type": "code",
      "source": [
        "\n",
        "#sanity check\n",
        "train_data_stats=train_data[\"reviews.rating\"].value_counts()/len(train_data)\n",
        "print(\"Sanity Check diff scale rating:\",train_data_stats)\n",
        "print(\"======================\")\n",
        "test_data_stats=test_data[\"reviews.rating\"].value_counts()/len(test_data)\n",
        "print(\"Sanity Check diff scale rating in training data:\",test_data_stats)\n"
      ],
      "metadata": {
        "id": "Sw36QvNoYAOk",
        "colab": {
          "base_uri": "https://localhost:8080/"
        },
        "outputId": "45ffb9b4-385a-4b89-92ae-0b2a9d8b9cb9"
      },
      "execution_count": null,
      "outputs": [
        {
          "output_type": "stream",
          "name": "stdout",
          "text": [
            "Sanity Check diff scale rating: 5.0    0.685947\n",
            "4.0    0.246462\n",
            "3.0    0.043905\n",
            "2.0    0.011735\n",
            "1.0    0.010940\n",
            "Name: reviews.rating, dtype: float64\n",
            "======================\n",
            "Sanity Check diff scale rating in training data: 5.0    0.685921\n",
            "4.0    0.246931\n",
            "3.0    0.040578\n",
            "1.0    0.014007\n",
            "2.0    0.010975\n",
            "Name: reviews.rating, dtype: float64\n"
          ]
        }
      ]
    },
    {
      "cell_type": "code",
      "source": [
        "# Prepare data\n",
        "X_train = train_data[\"reviews.text\"]\n",
        "y_train= train_data[\"sentiment_label\"]\n",
        "X_test = test_data[\"reviews.text\"]\n",
        "y_test = test_data[\"sentiment_label\"]\n",
        "print(\"dimention of training data\",X_train.shape)\n",
        "print(\"dimention of testing data\",X_test.shape)\n"
      ],
      "metadata": {
        "id": "wyW3lHOTYAMV",
        "colab": {
          "base_uri": "https://localhost:8080/"
        },
        "outputId": "b8e0b47c-79a5-4b50-d3d8-a32af5464244"
      },
      "execution_count": null,
      "outputs": [
        {
          "output_type": "stream",
          "name": "stdout",
          "text": [
            "dimention of training data (27696,)\n",
            "dimention of testing data (6925,)\n"
          ]
        }
      ]
    },
    {
      "cell_type": "code",
      "source": [
        "from sklearn.feature_extraction.text import TfidfTransformer\n",
        "from sklearn.feature_extraction.text import CountVectorizer\n",
        "\n",
        "# Replace \"nan\" with space\n",
        "X_train = X_train.fillna(' ')\n",
        "X_test = X_test.fillna(' ')\n",
        "y_train = y_train.fillna(' ')\n",
        "y_test= y_test.fillna(' ')\n",
        "# Text preprocessing and occurance counting\n",
        "\n",
        "X_train_counts = CountVectorizer().fit_transform(X_train)\n",
        "print(\"Dimention of bag of words\", X_train_counts.shape)\n",
        "tfidf = TfidfTransformer(use_idf=False)\n",
        "X_train_tfidf=tfidf.fit_transform(X_train_counts)\n",
        "print(\"tfidf for X_train\", X_train_tfidf)\n",
        "\n",
        "\n"
      ],
      "metadata": {
        "id": "N0oqn91-Z36X",
        "colab": {
          "base_uri": "https://localhost:8080/"
        },
        "outputId": "8b41f8a3-ebab-41ed-b5d3-a9be0aa17540"
      },
      "execution_count": null,
      "outputs": [
        {
          "output_type": "stream",
          "name": "stdout",
          "text": [
            "Dimention of bag of words (27696, 12568)\n",
            "tfidf for X_train   (0, 217)\t0.06950480468569159\n",
            "  (0, 442)\t0.06950480468569159\n",
            "  (0, 830)\t0.06950480468569159\n",
            "  (0, 836)\t0.13900960937138318\n",
            "  (0, 889)\t0.06950480468569159\n",
            "  (0, 944)\t0.20851441405707474\n",
            "  (0, 1382)\t0.06950480468569159\n",
            "  (0, 1495)\t0.06950480468569159\n",
            "  (0, 1902)\t0.06950480468569159\n",
            "  (0, 1972)\t0.06950480468569159\n",
            "  (0, 2302)\t0.06950480468569159\n",
            "  (0, 2694)\t0.06950480468569159\n",
            "  (0, 3051)\t0.06950480468569159\n",
            "  (0, 3235)\t0.06950480468569159\n",
            "  (0, 3487)\t0.06950480468569159\n",
            "  (0, 3576)\t0.06950480468569159\n",
            "  (0, 3692)\t0.06950480468569159\n",
            "  (0, 3810)\t0.06950480468569159\n",
            "  (0, 4275)\t0.06950480468569159\n",
            "  (0, 4468)\t0.06950480468569159\n",
            "  (0, 4998)\t0.06950480468569159\n",
            "  (0, 5249)\t0.13900960937138318\n",
            "  (0, 5284)\t0.20851441405707474\n",
            "  (0, 5549)\t0.06950480468569159\n",
            "  (0, 5640)\t0.06950480468569159\n",
            "  :\t:\n",
            "  (27694, 11363)\t0.2279211529192759\n",
            "  (27694, 11842)\t0.11396057645963795\n",
            "  (27694, 11850)\t0.11396057645963795\n",
            "  (27694, 12293)\t0.11396057645963795\n",
            "  (27694, 12528)\t0.11396057645963795\n",
            "  (27695, 25)\t0.17677669529663687\n",
            "  (27695, 836)\t0.17677669529663687\n",
            "  (27695, 1235)\t0.17677669529663687\n",
            "  (27695, 1541)\t0.17677669529663687\n",
            "  (27695, 1721)\t0.17677669529663687\n",
            "  (27695, 2045)\t0.17677669529663687\n",
            "  (27695, 4573)\t0.35355339059327373\n",
            "  (27695, 4898)\t0.17677669529663687\n",
            "  (27695, 5048)\t0.17677669529663687\n",
            "  (27695, 5731)\t0.17677669529663687\n",
            "  (27695, 6071)\t0.35355339059327373\n",
            "  (27695, 6088)\t0.35355339059327373\n",
            "  (27695, 6753)\t0.17677669529663687\n",
            "  (27695, 7346)\t0.17677669529663687\n",
            "  (27695, 8099)\t0.17677669529663687\n",
            "  (27695, 8223)\t0.17677669529663687\n",
            "  (27695, 8693)\t0.17677669529663687\n",
            "  (27695, 9909)\t0.17677669529663687\n",
            "  (27695, 11146)\t0.35355339059327373\n",
            "  (27695, 11213)\t0.17677669529663687\n"
          ]
        }
      ]
    },
    {
      "cell_type": "markdown",
      "source": [
        "#Applying Models"
      ],
      "metadata": {
        "id": "63fahYxUiKK2"
      }
    },
    {
      "cell_type": "code",
      "source": [
        "from sklearn.metrics import classification_report\n",
        "from sklearn import linear_model\n",
        "from sklearn import metrics\n",
        "from sklearn.pipeline import Pipeline\n",
        "from sklearn.metrics import accuracy_score\n",
        "accuracies = {}"
      ],
      "metadata": {
        "id": "v4wWR3wuZ312"
      },
      "execution_count": null,
      "outputs": []
    },
    {
      "cell_type": "markdown",
      "source": [
        "#Naive Bayes"
      ],
      "metadata": {
        "id": "s24UwuB-mBQK"
      }
    },
    {
      "cell_type": "code",
      "source": [
        "from sklearn.naive_bayes import MultinomialNB\n",
        "clf_multiNB_pipe = Pipeline([(\"vect\", CountVectorizer()), (\"tfidf\", TfidfTransformer()),(\"clf_nominalNB\", MultinomialNB())])\n",
        "clf_multiNB_pipe.fit(X_train, y_train)\n",
        "predicted_nb=clf_multiNB_pipe.predict(X_test)\n",
        "\n",
        "print(classification_report(y_test, predicted_nb))\n",
        "accu=accuracy_score(y_test,predicted_nb)\n",
        "print('Accuracy: {}'. format(accu))\n",
        "accuracies['Naive Bayes'] = accu\n"
      ],
      "metadata": {
        "id": "VuB6tr4-ttDC",
        "colab": {
          "base_uri": "https://localhost:8080/"
        },
        "outputId": "3960b62e-bad9-402c-d933-95f0a73ff669"
      },
      "execution_count": null,
      "outputs": [
        {
          "output_type": "stream",
          "name": "stdout",
          "text": [
            "              precision    recall  f1-score   support\n",
            "\n",
            "                   0.00      0.00      0.00        11\n",
            "    Negative       0.00      0.00      0.00       173\n",
            "     Neutral       0.00      0.00      0.00       281\n",
            "    Positive       0.93      1.00      0.97      6460\n",
            "\n",
            "    accuracy                           0.93      6925\n",
            "   macro avg       0.23      0.25      0.24      6925\n",
            "weighted avg       0.87      0.93      0.90      6925\n",
            "\n",
            "Accuracy: 0.9325631768953069\n"
          ]
        },
        {
          "output_type": "stream",
          "name": "stderr",
          "text": [
            "/usr/local/lib/python3.8/dist-packages/sklearn/metrics/_classification.py:1318: UndefinedMetricWarning: Precision and F-score are ill-defined and being set to 0.0 in labels with no predicted samples. Use `zero_division` parameter to control this behavior.\n",
            "  _warn_prf(average, modifier, msg_start, len(result))\n",
            "/usr/local/lib/python3.8/dist-packages/sklearn/metrics/_classification.py:1318: UndefinedMetricWarning: Precision and F-score are ill-defined and being set to 0.0 in labels with no predicted samples. Use `zero_division` parameter to control this behavior.\n",
            "  _warn_prf(average, modifier, msg_start, len(result))\n",
            "/usr/local/lib/python3.8/dist-packages/sklearn/metrics/_classification.py:1318: UndefinedMetricWarning: Precision and F-score are ill-defined and being set to 0.0 in labels with no predicted samples. Use `zero_division` parameter to control this behavior.\n",
            "  _warn_prf(average, modifier, msg_start, len(result))\n"
          ]
        }
      ]
    },
    {
      "cell_type": "markdown",
      "source": [
        "#Logistic regression\n"
      ],
      "metadata": {
        "id": "FtBOal0QmThq"
      }
    },
    {
      "cell_type": "code",
      "source": [
        "\n",
        "from sklearn.linear_model import LogisticRegression\n",
        "\n",
        "clf_logReg_pipe = Pipeline([(\"vect\", CountVectorizer()),(\"tfidf\", TfidfTransformer()),(\"clf_logReg\", LogisticRegression())])\n",
        "clf_logReg_pipe.fit(X_train, y_train)\n",
        "predictedLogReg = clf_logReg_pipe.predict(X_test)\n",
        "\n",
        "print(classification_report(y_test, predictedLogReg))\n",
        "# print('Accuracy: {}'. format(accuracy_score(y_test,predictedLogReg )))\n",
        "accu2=accuracy_score(y_test,predictedLogReg)\n",
        "print('Accuracy: {}'. format(accu2))\n",
        "accuracies['logistic regression'] = accu2"
      ],
      "metadata": {
        "id": "d5tVLO35Z3zm",
        "colab": {
          "base_uri": "https://localhost:8080/"
        },
        "outputId": "01106792-deea-442f-bd57-74104f0fddfb"
      },
      "execution_count": null,
      "outputs": [
        {
          "output_type": "stream",
          "name": "stderr",
          "text": [
            "/usr/local/lib/python3.8/dist-packages/sklearn/linear_model/_logistic.py:814: ConvergenceWarning: lbfgs failed to converge (status=1):\n",
            "STOP: TOTAL NO. of ITERATIONS REACHED LIMIT.\n",
            "\n",
            "Increase the number of iterations (max_iter) or scale the data as shown in:\n",
            "    https://scikit-learn.org/stable/modules/preprocessing.html\n",
            "Please also refer to the documentation for alternative solver options:\n",
            "    https://scikit-learn.org/stable/modules/linear_model.html#logistic-regression\n",
            "  n_iter_i = _check_optimize_result(\n"
          ]
        },
        {
          "output_type": "stream",
          "name": "stdout",
          "text": [
            "              precision    recall  f1-score   support\n",
            "\n",
            "                   0.00      0.00      0.00        11\n",
            "    Negative       0.78      0.18      0.29       173\n",
            "     Neutral       0.45      0.09      0.15       281\n",
            "    Positive       0.94      1.00      0.97      6460\n",
            "\n",
            "    accuracy                           0.94      6925\n",
            "   macro avg       0.54      0.32      0.35      6925\n",
            "weighted avg       0.92      0.94      0.92      6925\n",
            "\n",
            "Accuracy: 0.9373285198555956\n"
          ]
        },
        {
          "output_type": "stream",
          "name": "stderr",
          "text": [
            "/usr/local/lib/python3.8/dist-packages/sklearn/metrics/_classification.py:1318: UndefinedMetricWarning: Precision and F-score are ill-defined and being set to 0.0 in labels with no predicted samples. Use `zero_division` parameter to control this behavior.\n",
            "  _warn_prf(average, modifier, msg_start, len(result))\n",
            "/usr/local/lib/python3.8/dist-packages/sklearn/metrics/_classification.py:1318: UndefinedMetricWarning: Precision and F-score are ill-defined and being set to 0.0 in labels with no predicted samples. Use `zero_division` parameter to control this behavior.\n",
            "  _warn_prf(average, modifier, msg_start, len(result))\n",
            "/usr/local/lib/python3.8/dist-packages/sklearn/metrics/_classification.py:1318: UndefinedMetricWarning: Precision and F-score are ill-defined and being set to 0.0 in labels with no predicted samples. Use `zero_division` parameter to control this behavior.\n",
            "  _warn_prf(average, modifier, msg_start, len(result))\n"
          ]
        }
      ]
    },
    {
      "cell_type": "markdown",
      "source": [
        "#LinearSVC"
      ],
      "metadata": {
        "id": "WVFxGcgPmWGC"
      }
    },
    {
      "cell_type": "code",
      "source": [
        "#linearSVC\n",
        "from sklearn.svm import LinearSVC\n",
        "from sklearn import linear_model\n",
        "\n",
        "clf_linearSVC_pipe = Pipeline([(\"vect\", CountVectorizer()), (\"tfidf\", TfidfTransformer()),(\"clf_linearSVC\", LinearSVC())])\n",
        "clf_linearSVC_pipe.fit(X_train, y_train)\n",
        "predictedLinearSVC = clf_linearSVC_pipe.predict(X_test)\n",
        "print(classification_report(y_test, predictedLinearSVC))\n",
        "# print('Accuracy: {}'. format(accuracy_score(y_test,predictedLinearSVC)))\n",
        "accu3=accuracy_score(y_test,predictedLinearSVC)\n",
        "print('Accuracy: {}'. format(accu3))\n",
        "accuracies['linearSVC'] = accu3"
      ],
      "metadata": {
        "id": "d61Kl1p6Z3xW",
        "colab": {
          "base_uri": "https://localhost:8080/"
        },
        "outputId": "e149b2cd-9a73-472e-ad73-1844239cbf88"
      },
      "execution_count": null,
      "outputs": [
        {
          "output_type": "stream",
          "name": "stdout",
          "text": [
            "              precision    recall  f1-score   support\n",
            "\n",
            "                   0.00      0.00      0.00        11\n",
            "    Negative       0.61      0.28      0.39       173\n",
            "     Neutral       0.43      0.12      0.19       281\n",
            "    Positive       0.95      0.99      0.97      6460\n",
            "\n",
            "    accuracy                           0.94      6925\n",
            "   macro avg       0.50      0.35      0.39      6925\n",
            "weighted avg       0.92      0.94      0.92      6925\n",
            "\n",
            "Accuracy: 0.9387725631768953\n"
          ]
        },
        {
          "output_type": "stream",
          "name": "stderr",
          "text": [
            "/usr/local/lib/python3.8/dist-packages/sklearn/metrics/_classification.py:1318: UndefinedMetricWarning: Precision and F-score are ill-defined and being set to 0.0 in labels with no predicted samples. Use `zero_division` parameter to control this behavior.\n",
            "  _warn_prf(average, modifier, msg_start, len(result))\n",
            "/usr/local/lib/python3.8/dist-packages/sklearn/metrics/_classification.py:1318: UndefinedMetricWarning: Precision and F-score are ill-defined and being set to 0.0 in labels with no predicted samples. Use `zero_division` parameter to control this behavior.\n",
            "  _warn_prf(average, modifier, msg_start, len(result))\n",
            "/usr/local/lib/python3.8/dist-packages/sklearn/metrics/_classification.py:1318: UndefinedMetricWarning: Precision and F-score are ill-defined and being set to 0.0 in labels with no predicted samples. Use `zero_division` parameter to control this behavior.\n",
            "  _warn_prf(average, modifier, msg_start, len(result))\n"
          ]
        }
      ]
    },
    {
      "cell_type": "markdown",
      "source": [
        "#Decision Tree Classifier\n"
      ],
      "metadata": {
        "id": "GUnNO_N1mbX6"
      }
    },
    {
      "cell_type": "code",
      "source": [
        "#Decision Tree Classifier\n",
        "from sklearn.tree import DecisionTreeClassifier\n",
        "clf_decisionTree_pipe = Pipeline([(\"vect\", CountVectorizer()), (\"tfidf\", TfidfTransformer()), (\"clf_decisionTree\", DecisionTreeClassifier())])\n",
        "clf_decisionTree_pipe.fit(X_train, y_train)\n",
        "predictedDecisionTree = clf_decisionTree_pipe.predict(X_test)\n",
        "\n",
        "print(classification_report(y_test, predictedDecisionTree))\n",
        "# print('Accuracy: {}'. format(accuracy_score(y_test,predictedDecisionTree)))\n",
        "\n",
        "accu4=accuracy_score(y_test,predictedDecisionTree)\n",
        "print('Accuracy: {}'. format(accu4))\n",
        "accuracies['Decision Tree Classifier'] = accu4"
      ],
      "metadata": {
        "id": "DLh7dBD4rIT9",
        "colab": {
          "base_uri": "https://localhost:8080/"
        },
        "outputId": "5047ef90-edc1-4107-eadf-833f2f89e69f"
      },
      "execution_count": null,
      "outputs": [
        {
          "output_type": "stream",
          "name": "stdout",
          "text": [
            "              precision    recall  f1-score   support\n",
            "\n",
            "                   0.58      1.00      0.73        11\n",
            "    Negative       0.23      0.18      0.20       173\n",
            "     Neutral       0.13      0.14      0.13       281\n",
            "    Positive       0.95      0.95      0.95      6460\n",
            "\n",
            "    accuracy                           0.90      6925\n",
            "   macro avg       0.47      0.57      0.50      6925\n",
            "weighted avg       0.90      0.90      0.90      6925\n",
            "\n",
            "Accuracy: 0.896173285198556\n"
          ]
        }
      ]
    },
    {
      "cell_type": "markdown",
      "source": [
        "#Random Forest Classifier\n"
      ],
      "metadata": {
        "id": "wnyZQ6_fmdyS"
      }
    },
    {
      "cell_type": "code",
      "source": [
        "#Random Forest Classifier\n",
        "from sklearn.ensemble import RandomForestClassifier\n",
        "clf_randomForest_pipe = Pipeline([(\"vect\", CountVectorizer()),(\"tfidf\", TfidfTransformer()), (\"clf_randomForest\", RandomForestClassifier())])\n",
        "\n",
        "clf_randomForest_pipe.fit(X_train, y_train)\n",
        "print(clf_randomForest_pipe)\n",
        "predictedRandomForest = clf_randomForest_pipe.predict(X_test)\n",
        "print(classification_report(y_test, predictedRandomForest))\n",
        "# print('Accuracy: {}'. format(accuracy_score(y_test,predictedRandomForest)))\n",
        "accu5=accuracy_score(y_test,predictedRandomForest)\n",
        "print('Accuracy: {}'. format(accu5))\n",
        "accuracies['Random Forest Classifier'] = accu5"
      ],
      "metadata": {
        "id": "vm2nZdMbrIRQ",
        "colab": {
          "base_uri": "https://localhost:8080/"
        },
        "outputId": "e2fff189-c0f6-41b0-ce51-99905efe6b31"
      },
      "execution_count": null,
      "outputs": [
        {
          "output_type": "stream",
          "name": "stdout",
          "text": [
            "Pipeline(steps=[('vect', CountVectorizer()), ('tfidf', TfidfTransformer()),\n",
            "                ('clf_randomForest', RandomForestClassifier())])\n",
            "              precision    recall  f1-score   support\n",
            "\n",
            "                   0.69      1.00      0.81        11\n",
            "    Negative       1.00      0.01      0.02       173\n",
            "     Neutral       1.00      0.01      0.01       281\n",
            "    Positive       0.93      1.00      0.97      6460\n",
            "\n",
            "    accuracy                           0.93      6925\n",
            "   macro avg       0.91      0.50      0.45      6925\n",
            "weighted avg       0.94      0.93      0.90      6925\n",
            "\n",
            "Accuracy: 0.9342960288808664\n"
          ]
        }
      ]
    },
    {
      "cell_type": "code",
      "source": [
        "#reverse\n",
        "accu_sorted = sorted(accuracies.items(), key=lambda x:x[-1],reverse=True)\n",
        "converted_dict = dict(accu_sorted)\n",
        "print(converted_dict)"
      ],
      "metadata": {
        "id": "CaKGK-gg4lwN",
        "colab": {
          "base_uri": "https://localhost:8080/"
        },
        "outputId": "3dc1918e-6bf1-4305-c516-dfe59135e0b6"
      },
      "execution_count": null,
      "outputs": [
        {
          "output_type": "stream",
          "name": "stdout",
          "text": [
            "{'linearSVC': 0.9387725631768953, 'logistic regression': 0.9373285198555956, 'Random Forest Classifier': 0.9342960288808664, 'Naive Bayes': 0.9325631768953069, 'Decision Tree Classifier': 0.896173285198556}\n"
          ]
        }
      ]
    },
    {
      "cell_type": "code",
      "source": [
        "colors = [\"purple\", \"green\", \"blue\",\"yellow\", \"red\"]\n",
        "plt.figure(figsize = (15,6))\n",
        "plt.grid(True)\n",
        "sns.set_style(\"whitegrid\")\n",
        "\n",
        "bar_chartrange=sns.barplot(x=list(converted_dict.keys()), y=list(converted_dict.values()), palette=colors)\n",
        "bar_chartrange.set_ylim(bottom=0.875, top=0.950)\n",
        "\n",
        "\n",
        "plt.title('Comparing accuracy of the four models', fontsize = 20)\n",
        "plt.xticks(fontsize = 12)\n",
        "plt.yticks(fontsize = 12)\n",
        "plt.ylabel(\"Accuracy %\")\n",
        "plt.xlabel(\"Algorithms\")\n",
        "\n",
        "\n",
        "plt.show()"
      ],
      "metadata": {
        "id": "B99gDumBx70u",
        "colab": {
          "base_uri": "https://localhost:8080/"
        },
        "outputId": "409687ac-9658-4eb3-e7d2-fadc417f031d"
      },
      "execution_count": null,
      "outputs": [
        {
          "output_type": "display_data",
          "data": {
            "text/plain": [
              "<Figure size 1080x432 with 1 Axes>"
            ],
            "image/png": "[encoded data removed]"
          },
          "metadata": {
            "needs_background": "light"
          }
        }
      ]
    },
    {
      "cell_type": "code",
      "source": [
        "df_accuracy = pd.DataFrame(accuracies.items(), columns=['Model', 'Accuracy'])\n",
        "df_accuracy.sort_values(by= ['Accuracy'], inplace= True, ascending= False)\n",
        "df_accuracy"
      ],
      "metadata": {
        "id": "sg71hIHWrIM2",
        "colab": {
          "base_uri": "https://localhost:8080/"
        },
        "outputId": "92da3ff5-acca-4c84-ffc4-aff88ed621b6"
      },
      "execution_count": null,
      "outputs": [
        {
          "output_type": "execute_result",
          "data": {
            "text/plain": [
              "                      Model  Accuracy\n",
              "2                 linearSVC  0.938773\n",
              "1       logistic regression  0.937329\n",
              "4  Random Forest Classifier  0.934296\n",
              "0               Naive Bayes  0.932563\n",
              "3  Decision Tree Classifier  0.896173"
            ],
            "text/html": [
              "\n",
              "  <div id=\"df-e6589578-1944-41e0-b09d-46098401750a\">\n",
              "    <div class=\"colab-df-container\">\n",
              "      <div>\n",
              "<style scoped>\n",
              "    .dataframe tbody tr th:only-of-type {\n",
              "        vertical-align: middle;\n",
              "    }\n",
              "\n",
              "    .dataframe tbody tr th {\n",
              "        vertical-align: top;\n",
              "    }\n",
              "\n",
              "    .dataframe thead th {\n",
              "        text-align: right;\n",
              "    }\n",
              "</style>\n",
              "<table border=\"1\" class=\"dataframe\">\n",
              "  <thead>\n",
              "    <tr style=\"text-align: right;\">\n",
              "      <th></th>\n",
              "      <th>Model</th>\n",
              "      <th>Accuracy</th>\n",
              "    </tr>\n",
              "  </thead>\n",
              "  <tbody>\n",
              "    <tr>\n",
              "      <th>2</th>\n",
              "      <td>linearSVC</td>\n",
              "      <td>0.938773</td>\n",
              "    </tr>\n",
              "    <tr>\n",
              "      <th>1</th>\n",
              "      <td>logistic regression</td>\n",
              "      <td>0.937329</td>\n",
              "    </tr>\n",
              "    <tr>\n",
              "      <th>4</th>\n",
              "      <td>Random Forest Classifier</td>\n",
              "      <td>0.934296</td>\n",
              "    </tr>\n",
              "    <tr>\n",
              "      <th>0</th>\n",
              "      <td>Naive Bayes</td>\n",
              "      <td>0.932563</td>\n",
              "    </tr>\n",
              "    <tr>\n",
              "      <th>3</th>\n",
              "      <td>Decision Tree Classifier</td>\n",
              "      <td>0.896173</td>\n",
              "    </tr>\n",
              "  </tbody>\n",
              "</table>\n",
              "</div>\n",
              "      <button class=\"colab-df-convert\" onclick=\"convertToInteractive('df-e6589578-1944-41e0-b09d-46098401750a')\"\n",
              "              title=\"Convert this dataframe to an interactive table.\"\n",
              "              style=\"display:none;\">\n",
              "        \n",
              "  <svg xmlns=\"http://www.w3.org/2000/svg\" height=\"24px\"viewBox=\"0 0 24 24\"\n",
              "       width=\"24px\">\n",
              "    <path d=\"M0 0h24v24H0V0z\" fill=\"none\"/>\n",
              "    <path d=\"M18.56 5.44l.94 2.06.94-2.06 2.06-.94-2.06-.94-.94-2.06-.94 2.06-2.06.94zm-11 1L8.5 8.5l.94-2.06 2.06-.94-2.06-.94L8.5 2.5l-.94 2.06-2.06.94zm10 10l.94 2.06.94-2.06 2.06-.94-2.06-.94-.94-2.06-.94 2.06-2.06.94z\"/><path d=\"M17.41 7.96l-1.37-1.37c-.4-.4-.92-.59-1.43-.59-.52 0-1.04.2-1.43.59L10.3 9.45l-7.72 7.72c-.78.78-.78 2.05 0 2.83L4 21.41c.39.39.9.59 1.41.59.51 0 1.02-.2 1.41-.59l7.78-7.78 2.81-2.81c.8-.78.8-2.07 0-2.86zM5.41 20L4 18.59l7.72-7.72 1.47 1.35L5.41 20z\"/>\n",
              "  </svg>\n",
              "      </button>\n",
              "      \n",
              "  <style>\n",
              "    .colab-df-container {\n",
              "      display:flex;\n",
              "      flex-wrap:wrap;\n",
              "      gap: 12px;\n",
              "    }\n",
              "\n",
              "    .colab-df-convert {\n",
              "      background-color: #E8F0FE;\n",
              "      border: none;\n",
              "      border-radius: 50%;\n",
              "      cursor: pointer;\n",
              "      display: none;\n",
              "      fill: #1967D2;\n",
              "      height: 32px;\n",
              "      padding: 0 0 0 0;\n",
              "      width: 32px;\n",
              "    }\n",
              "\n",
              "    .colab-df-convert:hover {\n",
              "      background-color: #E2EBFA;\n",
              "      box-shadow: 0px 1px 2px rgba(60, 64, 67, 0.3), 0px 1px 3px 1px rgba(60, 64, 67, 0.15);\n",
              "      fill: #174EA6;\n",
              "    }\n",
              "\n",
              "    [theme=dark] .colab-df-convert {\n",
              "      background-color: #3B4455;\n",
              "      fill: #D2E3FC;\n",
              "    }\n",
              "\n",
              "    [theme=dark] .colab-df-convert:hover {\n",
              "      background-color: #434B5C;\n",
              "      box-shadow: 0px 1px 3px 1px rgba(0, 0, 0, 0.15);\n",
              "      filter: drop-shadow(0px 1px 2px rgba(0, 0, 0, 0.3));\n",
              "      fill: #FFFFFF;\n",
              "    }\n",
              "  </style>\n",
              "\n",
              "      <script>\n",
              "        const buttonEl =\n",
              "          document.querySelector('#df-e6589578-1944-41e0-b09d-46098401750a button.colab-df-convert');\n",
              "        buttonEl.style.display =\n",
              "          google.colab.kernel.accessAllowed ? 'block' : 'none';\n",
              "\n",
              "        async function convertToInteractive(key) {\n",
              "          const element = document.querySelector('#df-e6589578-1944-41e0-b09d-46098401750a');\n",
              "          const dataTable =\n",
              "            await google.colab.kernel.invokeFunction('convertToInteractive',\n",
              "                                                     [key], {});\n",
              "          if (!dataTable) return;\n",
              "\n",
              "          const docLinkHtml = 'Like what you see? Visit the ' +\n",
              "            '<a target=\"_blank\" href=https://colab.research.google.com/notebooks/data_table.ipynb>data table notebook</a>'\n",
              "            + ' to learn more about interactive tables.';\n",
              "          element.innerHTML = '';\n",
              "          dataTable['output_type'] = 'display_data';\n",
              "          await google.colab.output.renderOutput(dataTable, element);\n",
              "          const docLink = document.createElement('div');\n",
              "          docLink.innerHTML = docLinkHtml;\n",
              "          element.appendChild(docLink);\n",
              "        }\n",
              "      </script>\n",
              "    </div>\n",
              "  </div>\n",
              "  "
            ]
          },
          "metadata": {},
          "execution_count": 41
        }
      ]
    }
  ],
  "metadata": {
    "colab": {
      "provenance": []
    },
    "kernelspec": {
      "display_name": "Python 3",
      "name": "python3"
    },
    "language_info": {
      "name": "python"
    }
  },
  "nbformat": 4,
  "nbformat_minor": 0
}